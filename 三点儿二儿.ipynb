{
  "cells": [
    {
      "cell_type": "markdown",
      "metadata": {
        "id": "Xb4KKzvNlTpj"
      },
      "source": [
        "# Preparation"
      ]
    },
    {
      "cell_type": "code",
      "execution_count": 125,
      "metadata": {
        "id": "uLNO2yMNTS34"
      },
      "outputs": [],
      "source": [
        "# import all the necessary libraries\n",
        "import os\n",
        "import pandas as pd\n",
        "import numpy as np\n",
        "from scipy.optimize import minimize\n",
        "from scipy.special import expit\n",
        "import matplotlib.pyplot as plt\n",
        "import geopandas as gpd\n",
        "import seaborn as sns\n",
        "import folium\n",
        "import statsmodels.api as sm\n",
        "import scipy.stats\n",
        "from math import sqrt\n",
        "import statsmodels.formula.api as smf\n",
        "from scipy.stats import norm\n",
        "#read the London population flow file"
      ]
    },
    {
      "cell_type": "code",
      "execution_count": 143,
      "metadata": {
        "colab": {
          "base_uri": "https://localhost:8080/"
        },
        "id": "HaUHqGVcSlx2",
        "outputId": "d42b82c4-0797-4a51-b2cd-3f95f8efdf76"
      },
      "outputs": [
        {
          "name": "stdout",
          "output_type": "stream",
          "text": [
            "  station_origin station_destination  flows  population   jobs     distance\n",
            "0     Abbey Road   Bank and Monument      0         599  78549  8131.525097\n",
            "1     Abbey Road             Beckton      1         599    442  8510.121774\n",
            "2     Abbey Road           Blackwall      3         599    665  3775.448872\n",
            "3     Abbey Road        Canary Wharf      1         599  58772  5086.514220\n",
            "4     Abbey Road        Canning Town     37         599  15428  2228.923167\n"
          ]
        }
      ],
      "source": [
        "# 导入所需的库\n",
        "import pandas as pd\n",
        "\n",
        "\n",
        "# 读取CSV文件\n",
        "file_path = 'london_flows.csv'\n",
        "data = pd.read_csv(file_path)\n",
        "\n",
        "# 显示数据前几行\n",
        "print(data.head())"
      ]
    },
    {
      "cell_type": "code",
      "execution_count": 30,
      "metadata": {
        "colab": {
          "base_uri": "https://localhost:8080/"
        },
        "id": "rINui8SVS85s",
        "outputId": "fd734090-0a8d-4899-fa64-28a99869160c"
      },
      "outputs": [
        {
          "data": {
            "text/plain": [
              "station_origin         0\n",
              "station_destination    0\n",
              "flows                  0\n",
              "population             0\n",
              "jobs                   0\n",
              "distance               0\n",
              "log_distance           0\n",
              "log_jobs               0\n",
              "log_flows              0\n",
              "inv_distance           0\n",
              "dtype: int64"
            ]
          },
          "execution_count": 30,
          "metadata": {},
          "output_type": "execute_result"
        }
      ],
      "source": [
        "# 添加对数距离列，确保距离中没有零或负值\n",
        "data['log_distance'] = np.log(data['distance'] + 1)  # +1 以避免对零取对数\n",
        "data['log_jobs'] = np.log(data['jobs'] + 1)\n",
        "data['log_flows'] = np.log(data['flows'] + 1)\n",
        "# 给距离加上一个小的常数以避免除以零\n",
        "data['inv_distance'] = np.power(data['distance'] + 0.001, -1)\n",
        "# 检查是否有缺失值\n",
        "data.isnull().sum()"
      ]
    },
    {
      "cell_type": "code",
      "execution_count": 153,
      "metadata": {},
      "outputs": [
        {
          "data": {
            "text/plain": [
              "99978.83557678136"
            ]
          },
          "execution_count": 153,
          "metadata": {},
          "output_type": "execute_result"
        }
      ],
      "source": [
        "(data0['new_flow']).sum()"
      ]
    },
    {
      "cell_type": "code",
      "execution_count": 127,
      "metadata": {},
      "outputs": [
        {
          "data": {
            "text/plain": [
              "<matplotlib.legend.Legend at 0x12633a5a0>"
            ]
          },
          "execution_count": 127,
          "metadata": {},
          "output_type": "execute_result"
        },
        {
          "data": {
            "image/png": "[encoded data removed]",
            "text/plain": [
              "<Figure size 1200x600 with 1 Axes>"
            ]
          },
          "metadata": {},
          "output_type": "display_data"
        }
      ],
      "source": [
        "# 绘制原始流量的频率分布图\n",
        "plt.figure(figsize=(12, 6))\n",
        "plt.hist(data['flows'], bins=30, alpha=0.5, label='Flows', color='blue', range=(0, 100))\n",
        "\n",
        "\n",
        "# 添加图例和标签\n",
        "plt.xlabel('Flow')\n",
        "plt.ylabel('Frequency')\n",
        "plt.title('Frequency Distribution of Flows')\n",
        "plt.legend()"
      ]
    },
    {
      "cell_type": "code",
      "execution_count": 31,
      "metadata": {
        "id": "nSNX6SnfT-og"
      },
      "outputs": [],
      "source": [
        "#set up the metric calculations\n",
        "def CalcRSqaured(observed, estimated):\n",
        "    \"\"\"Calculate the r^2 from a series of observed and estimated target values\n",
        "    inputs:\n",
        "    Observed: Series of actual observed values\n",
        "    estimated: Series of predicted values\"\"\"\n",
        "    \n",
        "    r, p = scipy.stats.pearsonr(observed, estimated)\n",
        "    R2 = r **2\n",
        "    \n",
        "    return R2\n",
        "\n",
        "def CalcRMSE(observed, estimated):\n",
        "    \"\"\"Calculate Root Mean Square Error between a series of observed and estimated values\n",
        "    inputs:\n",
        "    Observed: Series of actual observed values\n",
        "    estimated: Series of predicted values\"\"\"\n",
        "    \n",
        "    res = (observed -estimated)**2\n",
        "    RMSE = round(sqrt(res.mean()), 3)\n",
        "    \n",
        "    return RMSE"
      ]
    },
    {
      "cell_type": "markdown",
      "metadata": {
        "id": "85CnJ84plDyM"
      },
      "source": [
        "# flows - origin"
      ]
    },
    {
      "cell_type": "code",
      "execution_count": 32,
      "metadata": {
        "colab": {
          "base_uri": "https://localhost:8080/"
        },
        "id": "pWusOET1aoTV",
        "outputId": "f9366876-95ba-49bb-a5dc-6ac6d35ce050"
      },
      "outputs": [
        {
          "name": "stdout",
          "output_type": "stream",
          "text": [
            "R-squared:  0.4061698633533295\n",
            "RMSE:  101.718\n"
          ]
        }
      ],
      "source": [
        "formula = 'flows ~ station_origin + jobs + distance-1'\n",
        "\n",
        "initial_constrained_model_poisson = smf.glm(formula=formula, data=data, family=sm.families.Poisson()).fit()\n",
        "\n",
        "print(\"R-squared: \", CalcRSqaured(data[\"flows\"], initial_constrained_model_poisson.mu))\n",
        "print(\"RMSE: \", CalcRMSE(data[\"flows\"], initial_constrained_model_poisson.mu))"
      ]
    },
    {
      "cell_type": "code",
      "execution_count": 33,
      "metadata": {
        "colab": {
          "base_uri": "https://localhost:8080/"
        },
        "id": "Kw2qIxAOe1Sk",
        "outputId": "c01a7fec-5cec-41be-bd34-e3d40096b9a7"
      },
      "outputs": [
        {
          "name": "stdout",
          "output_type": "stream",
          "text": [
            "R-squared:  0.16152789548500204\n",
            "RMSE:  133.754\n"
          ]
        }
      ],
      "source": [
        "formula = 'flows ~ station_origin + jobs + log_distance-1'\n",
        "\n",
        "initial_constrained_model_poisson_log = smf.glm(formula=formula, data=data, family=sm.families.Poisson()).fit()\n",
        "\n",
        "print(\"R-squared: \", CalcRSqaured(data[\"flows\"], initial_constrained_model_poisson_log.mu))\n",
        "print(\"RMSE: \", CalcRMSE(data[\"flows\"], initial_constrained_model_poisson_log.mu))"
      ]
    },
    {
      "cell_type": "code",
      "execution_count": 34,
      "metadata": {
        "colab": {
          "base_uri": "https://localhost:8080/"
        },
        "id": "gWwGDSr4cmqa",
        "outputId": "a4342ec1-ef3c-468c-a2a1-9e71c7d904c4"
      },
      "outputs": [
        {
          "name": "stderr",
          "output_type": "stream",
          "text": [
            "/Library/Frameworks/Python.framework/Versions/3.12/lib/python3.12/site-packages/statsmodels/genmod/families/family.py:1367: ValueWarning: Negative binomial dispersion parameter alpha not set. Using default value alpha=1.0.\n",
            "  warnings.warn(\"Negative binomial dispersion parameter alpha not \"\n"
          ]
        },
        {
          "name": "stdout",
          "output_type": "stream",
          "text": [
            "R-squared:  0.16000668029093978\n",
            "RMSE:  594.361\n"
          ]
        }
      ],
      "source": [
        "formula = 'flows ~ station_origin + jobs + distance-1'\n",
        "\n",
        "initial_constrained_model_negativebinomial = smf.glm(formula=formula, data=data, family=sm.families.NegativeBinomial()).fit()\n",
        "\n",
        "print(\"R-squared: \", CalcRSqaured(data[\"flows\"], initial_constrained_model_negativebinomial.mu))\n",
        "print(\"RMSE: \", CalcRMSE(data[\"flows\"], initial_constrained_model_negativebinomial.mu))"
      ]
    },
    {
      "cell_type": "code",
      "execution_count": 35,
      "metadata": {
        "colab": {
          "base_uri": "https://localhost:8080/"
        },
        "id": "-maBMc0dd_N4",
        "outputId": "702677d1-add6-4f8f-c8a3-d6eb71ceb147"
      },
      "outputs": [
        {
          "name": "stderr",
          "output_type": "stream",
          "text": [
            "/Library/Frameworks/Python.framework/Versions/3.12/lib/python3.12/site-packages/statsmodels/genmod/families/family.py:1367: ValueWarning: Negative binomial dispersion parameter alpha not set. Using default value alpha=1.0.\n",
            "  warnings.warn(\"Negative binomial dispersion parameter alpha not \"\n"
          ]
        },
        {
          "name": "stdout",
          "output_type": "stream",
          "text": [
            "R-squared:  1.2236149310478477e-06\n",
            "RMSE:  51317485.603\n"
          ]
        }
      ],
      "source": [
        "formula = 'flows ~ station_origin + jobs + log_distance-1'\n",
        "\n",
        "initial_constrained_model_negativebinomial_log = smf.glm(formula=formula, data=data, family=sm.families.NegativeBinomial()).fit()\n",
        "\n",
        "print(\"R-squared: \", CalcRSqaured(data[\"flows\"], initial_constrained_model_negativebinomial_log.mu))\n",
        "print(\"RMSE: \", CalcRMSE(data[\"flows\"], initial_constrained_model_negativebinomial_log.mu))"
      ]
    },
    {
      "cell_type": "markdown",
      "metadata": {
        "id": "bQk_QTzmhhOV"
      },
      "source": [
        "选择R-squared最大的formula = 'flows ~ station_origin + jobs + distance-1'"
      ]
    },
    {
      "cell_type": "code",
      "execution_count": 36,
      "metadata": {
        "id": "L-shNVo8wYky"
      },
      "outputs": [
        {
          "name": "stderr",
          "output_type": "stream",
          "text": [
            "/Library/Frameworks/Python.framework/Versions/3.12/lib/python3.12/site-packages/statsmodels/base/model.py:607: ConvergenceWarning: Maximum Likelihood optimization failed to converge. Check mle_retvals\n",
            "  warnings.warn(\"Maximum Likelihood optimization failed to \"\n"
          ]
        },
        {
          "name": "stdout",
          "output_type": "stream",
          "text": [
            "R-squared:  0.4061698633560388\n",
            "RMSE:  101.718\n"
          ]
        }
      ],
      "source": [
        "formula = 'flows ~ station_origin + jobs + distance-1'\n",
        "\n",
        "initial_constrained_model_poisson_optimized = smf.glm(formula=formula, data=data, family=sm.families.Poisson()).fit(method='newton', maxiter=100, tol=1e-6)\n",
        "\n",
        "print(\"R-squared: \", CalcRSqaured(data[\"flows\"], initial_constrained_model_poisson_optimized.mu))\n",
        "print(\"RMSE: \", CalcRMSE(data[\"flows\"], initial_constrained_model_poisson_optimized.mu))"
      ]
    },
    {
      "cell_type": "code",
      "execution_count": 37,
      "metadata": {
        "colab": {
          "base_uri": "https://localhost:8080/"
        },
        "id": "3kXumo1Bd_Un",
        "outputId": "75ce08c3-a947-485d-8f2e-87adca41e064"
      },
      "outputs": [
        {
          "name": "stderr",
          "output_type": "stream",
          "text": [
            "/Library/Frameworks/Python.framework/Versions/3.12/lib/python3.12/site-packages/statsmodels/base/model.py:607: ConvergenceWarning: Maximum Likelihood optimization failed to converge. Check mle_retvals\n",
            "  warnings.warn(\"Maximum Likelihood optimization failed to \"\n"
          ]
        },
        {
          "name": "stdout",
          "output_type": "stream",
          "text": [
            "R-squared:  0.4061698633560388\n",
            "RMSE:  101.718\n"
          ]
        }
      ],
      "source": [
        "# 加入交互项的负二项回归模型\n",
        "formula = 'flows ~ station_origin + jobs + distance-1'\n",
        "\n",
        "initial_constrained_model_poisson_interaction = smf.glm(formula=formula, data=data, family=sm.families.Poisson()).fit(method='newton', maxiter=100, tol=1e-6)\n",
        "\n",
        "print(\"R-squared: \", CalcRSqaured(data[\"flows\"], initial_constrained_model_poisson_interaction.mu))\n",
        "print(\"RMSE: \", CalcRMSE(data[\"flows\"], initial_constrained_model_poisson_interaction.mu))"
      ]
    },
    {
      "cell_type": "markdown",
      "metadata": {
        "id": "waJtPb7bloQB"
      },
      "source": [
        "# flows - log"
      ]
    },
    {
      "cell_type": "code",
      "execution_count": 38,
      "metadata": {
        "colab": {
          "base_uri": "https://localhost:8080/"
        },
        "id": "1mBpo2xXloQC",
        "outputId": "9d4c5330-0a5a-4f66-e5eb-54745fd59d06"
      },
      "outputs": [
        {
          "name": "stdout",
          "output_type": "stream",
          "text": [
            "R-squared:  0.47260794768468384\n",
            "RMSE:  1.148\n"
          ]
        }
      ],
      "source": [
        "formula = 'log_flows ~ station_origin + jobs + distance-1'\n",
        "\n",
        "initial_constrained_model_poisson = smf.glm(formula=formula, data=data, family=sm.families.Poisson()).fit()\n",
        "\n",
        "print(\"R-squared: \", CalcRSqaured(data[\"log_flows\"], initial_constrained_model_poisson.mu))\n",
        "print(\"RMSE: \", CalcRMSE(data[\"log_flows\"], initial_constrained_model_poisson.mu))"
      ]
    },
    {
      "cell_type": "code",
      "execution_count": 39,
      "metadata": {
        "colab": {
          "base_uri": "https://localhost:8080/"
        },
        "id": "Z-uH71cOloQD",
        "outputId": "6e87e914-b28c-43c4-8692-6cf0fb7d36f0"
      },
      "outputs": [
        {
          "name": "stdout",
          "output_type": "stream",
          "text": [
            "R-squared:  0.14052907495155695\n",
            "RMSE:  1.823\n"
          ]
        }
      ],
      "source": [
        "formula = 'log_flows ~ station_origin + jobs + log_distance-1'\n",
        "\n",
        "initial_constrained_model_poisson_log = smf.glm(formula=formula, data=data, family=sm.families.Poisson()).fit()\n",
        "print(\"R-squared: \", CalcRSqaured(data[\"log_flows\"], initial_constrained_model_poisson_log.mu))\n",
        "print(\"RMSE: \", CalcRMSE(data[\"log_flows\"], initial_constrained_model_poisson_log.mu))"
      ]
    },
    {
      "cell_type": "code",
      "execution_count": 40,
      "metadata": {
        "colab": {
          "base_uri": "https://localhost:8080/"
        },
        "id": "k3u0L6G7loQD",
        "outputId": "d1186303-0cda-4fcf-c19d-a51ae0e2352a"
      },
      "outputs": [
        {
          "name": "stderr",
          "output_type": "stream",
          "text": [
            "/Library/Frameworks/Python.framework/Versions/3.12/lib/python3.12/site-packages/statsmodels/genmod/families/family.py:1367: ValueWarning: Negative binomial dispersion parameter alpha not set. Using default value alpha=1.0.\n",
            "  warnings.warn(\"Negative binomial dispersion parameter alpha not \"\n"
          ]
        },
        {
          "name": "stdout",
          "output_type": "stream",
          "text": [
            "R-squared:  0.37505713984493516\n",
            "RMSE:  1.512\n"
          ]
        }
      ],
      "source": [
        "formula = 'log_flows ~ station_origin + jobs + distance-1'\n",
        "\n",
        "initial_constrained_model_negativebinomial = smf.glm(formula=formula, data=data, family=sm.families.NegativeBinomial()).fit()\n",
        "\n",
        "print(\"R-squared: \", CalcRSqaured(data[\"log_flows\"], initial_constrained_model_negativebinomial.mu))\n",
        "print(\"RMSE: \", CalcRMSE(data[\"log_flows\"], initial_constrained_model_negativebinomial.mu))"
      ]
    },
    {
      "cell_type": "code",
      "execution_count": 95,
      "metadata": {
        "colab": {
          "base_uri": "https://localhost:8080/"
        },
        "id": "mAUruxtvloQD",
        "outputId": "a529f905-6a99-4b79-ef4a-b80a251df504"
      },
      "outputs": [
        {
          "name": "stderr",
          "output_type": "stream",
          "text": [
            "/Library/Frameworks/Python.framework/Versions/3.12/lib/python3.12/site-packages/statsmodels/genmod/families/family.py:1367: ValueWarning: Negative binomial dispersion parameter alpha not set. Using default value alpha=1.0.\n",
            "  warnings.warn(\"Negative binomial dispersion parameter alpha not \"\n"
          ]
        },
        {
          "ename": "PatsyError",
          "evalue": "Error evaluating factor: NameError: name 'log_distance' is not defined\n    log_flows ~ station_origin + jobs + log_distance-1\n                                        ^^^^^^^^^^^^",
          "output_type": "error",
          "traceback": [
            "\u001b[0;31m---------------------------------------------------------------------------\u001b[0m",
            "\u001b[0;31mNameError\u001b[0m                                 Traceback (most recent call last)",
            "File \u001b[0;32m/Library/Frameworks/Python.framework/Versions/3.12/lib/python3.12/site-packages/patsy/compat.py:36\u001b[0m, in \u001b[0;36mcall_and_wrap_exc\u001b[0;34m(msg, origin, f, *args, **kwargs)\u001b[0m\n\u001b[1;32m     35\u001b[0m \u001b[38;5;28;01mtry\u001b[39;00m:\n\u001b[0;32m---> 36\u001b[0m     \u001b[38;5;28;01mreturn\u001b[39;00m \u001b[43mf\u001b[49m\u001b[43m(\u001b[49m\u001b[38;5;241;43m*\u001b[39;49m\u001b[43margs\u001b[49m\u001b[43m,\u001b[49m\u001b[43m \u001b[49m\u001b[38;5;241;43m*\u001b[39;49m\u001b[38;5;241;43m*\u001b[39;49m\u001b[43mkwargs\u001b[49m\u001b[43m)\u001b[49m\n\u001b[1;32m     37\u001b[0m \u001b[38;5;28;01mexcept\u001b[39;00m \u001b[38;5;167;01mException\u001b[39;00m \u001b[38;5;28;01mas\u001b[39;00m e:\n",
            "File \u001b[0;32m/Library/Frameworks/Python.framework/Versions/3.12/lib/python3.12/site-packages/patsy/eval.py:169\u001b[0m, in \u001b[0;36mEvalEnvironment.eval\u001b[0;34m(self, expr, source_name, inner_namespace)\u001b[0m\n\u001b[1;32m    168\u001b[0m code \u001b[38;5;241m=\u001b[39m \u001b[38;5;28mcompile\u001b[39m(expr, source_name, \u001b[38;5;124m\"\u001b[39m\u001b[38;5;124meval\u001b[39m\u001b[38;5;124m\"\u001b[39m, \u001b[38;5;28mself\u001b[39m\u001b[38;5;241m.\u001b[39mflags, \u001b[38;5;28;01mFalse\u001b[39;00m)\n\u001b[0;32m--> 169\u001b[0m \u001b[38;5;28;01mreturn\u001b[39;00m \u001b[38;5;28;43meval\u001b[39;49m\u001b[43m(\u001b[49m\u001b[43mcode\u001b[49m\u001b[43m,\u001b[49m\u001b[43m \u001b[49m\u001b[43m{\u001b[49m\u001b[43m}\u001b[49m\u001b[43m,\u001b[49m\u001b[43m \u001b[49m\u001b[43mVarLookupDict\u001b[49m\u001b[43m(\u001b[49m\u001b[43m[\u001b[49m\u001b[43minner_namespace\u001b[49m\u001b[43m]\u001b[49m\n\u001b[1;32m    170\u001b[0m \u001b[43m                                    \u001b[49m\u001b[38;5;241;43m+\u001b[39;49m\u001b[43m \u001b[49m\u001b[38;5;28;43mself\u001b[39;49m\u001b[38;5;241;43m.\u001b[39;49m\u001b[43m_namespaces\u001b[49m\u001b[43m)\u001b[49m\u001b[43m)\u001b[49m\n",
            "File \u001b[0;32m<string>:1\u001b[0m\n",
            "\u001b[0;31mNameError\u001b[0m: name 'log_distance' is not defined",
            "\nThe above exception was the direct cause of the following exception:\n",
            "\u001b[0;31mPatsyError\u001b[0m                                Traceback (most recent call last)",
            "Cell \u001b[0;32mIn[95], line 3\u001b[0m\n\u001b[1;32m      1\u001b[0m formula \u001b[38;5;241m=\u001b[39m \u001b[38;5;124m'\u001b[39m\u001b[38;5;124mlog_flows ~ station_origin + jobs + log_distance-1\u001b[39m\u001b[38;5;124m'\u001b[39m\n\u001b[0;32m----> 3\u001b[0m initial_constrained_model_negativebinomial_log \u001b[38;5;241m=\u001b[39m \u001b[43msmf\u001b[49m\u001b[38;5;241;43m.\u001b[39;49m\u001b[43mglm\u001b[49m\u001b[43m(\u001b[49m\u001b[43mformula\u001b[49m\u001b[38;5;241;43m=\u001b[39;49m\u001b[43mformula\u001b[49m\u001b[43m,\u001b[49m\u001b[43m \u001b[49m\u001b[43mdata\u001b[49m\u001b[38;5;241;43m=\u001b[39;49m\u001b[43mdata\u001b[49m\u001b[43m,\u001b[49m\u001b[43m \u001b[49m\u001b[43mfamily\u001b[49m\u001b[38;5;241;43m=\u001b[39;49m\u001b[43msm\u001b[49m\u001b[38;5;241;43m.\u001b[39;49m\u001b[43mfamilies\u001b[49m\u001b[38;5;241;43m.\u001b[39;49m\u001b[43mNegativeBinomial\u001b[49m\u001b[43m(\u001b[49m\u001b[43m)\u001b[49m\u001b[43m)\u001b[49m\u001b[38;5;241m.\u001b[39mfit()\n\u001b[1;32m      5\u001b[0m \u001b[38;5;28mprint\u001b[39m(\u001b[38;5;124m\"\u001b[39m\u001b[38;5;124mR-squared: \u001b[39m\u001b[38;5;124m\"\u001b[39m, CalcRSqaured(data[\u001b[38;5;124m\"\u001b[39m\u001b[38;5;124mlog_flows\u001b[39m\u001b[38;5;124m\"\u001b[39m], initial_constrained_model_negativebinomial_log\u001b[38;5;241m.\u001b[39mmu))\n\u001b[1;32m      6\u001b[0m \u001b[38;5;28mprint\u001b[39m(\u001b[38;5;124m\"\u001b[39m\u001b[38;5;124mRMSE: \u001b[39m\u001b[38;5;124m\"\u001b[39m, CalcRMSE(data[\u001b[38;5;124m\"\u001b[39m\u001b[38;5;124mlog_flows\u001b[39m\u001b[38;5;124m\"\u001b[39m], initial_constrained_model_negativebinomial_log\u001b[38;5;241m.\u001b[39mmu))\n",
            "File \u001b[0;32m/Library/Frameworks/Python.framework/Versions/3.12/lib/python3.12/site-packages/statsmodels/base/model.py:203\u001b[0m, in \u001b[0;36mModel.from_formula\u001b[0;34m(cls, formula, data, subset, drop_cols, *args, **kwargs)\u001b[0m\n\u001b[1;32m    200\u001b[0m \u001b[38;5;28;01mif\u001b[39;00m missing \u001b[38;5;241m==\u001b[39m \u001b[38;5;124m'\u001b[39m\u001b[38;5;124mnone\u001b[39m\u001b[38;5;124m'\u001b[39m:  \u001b[38;5;66;03m# with patsy it's drop or raise. let's raise.\u001b[39;00m\n\u001b[1;32m    201\u001b[0m     missing \u001b[38;5;241m=\u001b[39m \u001b[38;5;124m'\u001b[39m\u001b[38;5;124mraise\u001b[39m\u001b[38;5;124m'\u001b[39m\n\u001b[0;32m--> 203\u001b[0m tmp \u001b[38;5;241m=\u001b[39m \u001b[43mhandle_formula_data\u001b[49m\u001b[43m(\u001b[49m\u001b[43mdata\u001b[49m\u001b[43m,\u001b[49m\u001b[43m \u001b[49m\u001b[38;5;28;43;01mNone\u001b[39;49;00m\u001b[43m,\u001b[49m\u001b[43m \u001b[49m\u001b[43mformula\u001b[49m\u001b[43m,\u001b[49m\u001b[43m \u001b[49m\u001b[43mdepth\u001b[49m\u001b[38;5;241;43m=\u001b[39;49m\u001b[43meval_env\u001b[49m\u001b[43m,\u001b[49m\n\u001b[1;32m    204\u001b[0m \u001b[43m                          \u001b[49m\u001b[43mmissing\u001b[49m\u001b[38;5;241;43m=\u001b[39;49m\u001b[43mmissing\u001b[49m\u001b[43m)\u001b[49m\n\u001b[1;32m    205\u001b[0m ((endog, exog), missing_idx, design_info) \u001b[38;5;241m=\u001b[39m tmp\n\u001b[1;32m    206\u001b[0m max_endog \u001b[38;5;241m=\u001b[39m \u001b[38;5;28mcls\u001b[39m\u001b[38;5;241m.\u001b[39m_formula_max_endog\n",
            "File \u001b[0;32m/Library/Frameworks/Python.framework/Versions/3.12/lib/python3.12/site-packages/statsmodels/formula/formulatools.py:63\u001b[0m, in \u001b[0;36mhandle_formula_data\u001b[0;34m(Y, X, formula, depth, missing)\u001b[0m\n\u001b[1;32m     61\u001b[0m \u001b[38;5;28;01melse\u001b[39;00m:\n\u001b[1;32m     62\u001b[0m     \u001b[38;5;28;01mif\u001b[39;00m data_util\u001b[38;5;241m.\u001b[39m_is_using_pandas(Y, \u001b[38;5;28;01mNone\u001b[39;00m):\n\u001b[0;32m---> 63\u001b[0m         result \u001b[38;5;241m=\u001b[39m \u001b[43mdmatrices\u001b[49m\u001b[43m(\u001b[49m\u001b[43mformula\u001b[49m\u001b[43m,\u001b[49m\u001b[43m \u001b[49m\u001b[43mY\u001b[49m\u001b[43m,\u001b[49m\u001b[43m \u001b[49m\u001b[43mdepth\u001b[49m\u001b[43m,\u001b[49m\u001b[43m \u001b[49m\u001b[43mreturn_type\u001b[49m\u001b[38;5;241;43m=\u001b[39;49m\u001b[38;5;124;43m'\u001b[39;49m\u001b[38;5;124;43mdataframe\u001b[39;49m\u001b[38;5;124;43m'\u001b[39;49m\u001b[43m,\u001b[49m\n\u001b[1;32m     64\u001b[0m \u001b[43m                           \u001b[49m\u001b[43mNA_action\u001b[49m\u001b[38;5;241;43m=\u001b[39;49m\u001b[43mna_action\u001b[49m\u001b[43m)\u001b[49m\n\u001b[1;32m     65\u001b[0m     \u001b[38;5;28;01melse\u001b[39;00m:\n\u001b[1;32m     66\u001b[0m         result \u001b[38;5;241m=\u001b[39m dmatrices(formula, Y, depth, return_type\u001b[38;5;241m=\u001b[39m\u001b[38;5;124m'\u001b[39m\u001b[38;5;124mdataframe\u001b[39m\u001b[38;5;124m'\u001b[39m,\n\u001b[1;32m     67\u001b[0m                            NA_action\u001b[38;5;241m=\u001b[39mna_action)\n",
            "File \u001b[0;32m/Library/Frameworks/Python.framework/Versions/3.12/lib/python3.12/site-packages/patsy/highlevel.py:309\u001b[0m, in \u001b[0;36mdmatrices\u001b[0;34m(formula_like, data, eval_env, NA_action, return_type)\u001b[0m\n\u001b[1;32m    299\u001b[0m \u001b[38;5;250m\u001b[39m\u001b[38;5;124;03m\"\"\"Construct two design matrices given a formula_like and data.\u001b[39;00m\n\u001b[1;32m    300\u001b[0m \n\u001b[1;32m    301\u001b[0m \u001b[38;5;124;03mThis function is identical to :func:`dmatrix`, except that it requires\u001b[39;00m\n\u001b[0;32m   (...)\u001b[0m\n\u001b[1;32m    306\u001b[0m \u001b[38;5;124;03mSee :func:`dmatrix` for details.\u001b[39;00m\n\u001b[1;32m    307\u001b[0m \u001b[38;5;124;03m\"\"\"\u001b[39;00m\n\u001b[1;32m    308\u001b[0m eval_env \u001b[38;5;241m=\u001b[39m EvalEnvironment\u001b[38;5;241m.\u001b[39mcapture(eval_env, reference\u001b[38;5;241m=\u001b[39m\u001b[38;5;241m1\u001b[39m)\n\u001b[0;32m--> 309\u001b[0m (lhs, rhs) \u001b[38;5;241m=\u001b[39m \u001b[43m_do_highlevel_design\u001b[49m\u001b[43m(\u001b[49m\u001b[43mformula_like\u001b[49m\u001b[43m,\u001b[49m\u001b[43m \u001b[49m\u001b[43mdata\u001b[49m\u001b[43m,\u001b[49m\u001b[43m \u001b[49m\u001b[43meval_env\u001b[49m\u001b[43m,\u001b[49m\n\u001b[1;32m    310\u001b[0m \u001b[43m                                  \u001b[49m\u001b[43mNA_action\u001b[49m\u001b[43m,\u001b[49m\u001b[43m \u001b[49m\u001b[43mreturn_type\u001b[49m\u001b[43m)\u001b[49m\n\u001b[1;32m    311\u001b[0m \u001b[38;5;28;01mif\u001b[39;00m lhs\u001b[38;5;241m.\u001b[39mshape[\u001b[38;5;241m1\u001b[39m] \u001b[38;5;241m==\u001b[39m \u001b[38;5;241m0\u001b[39m:\n\u001b[1;32m    312\u001b[0m     \u001b[38;5;28;01mraise\u001b[39;00m PatsyError(\u001b[38;5;124m\"\u001b[39m\u001b[38;5;124mmodel is missing required outcome variables\u001b[39m\u001b[38;5;124m\"\u001b[39m)\n",
            "File \u001b[0;32m/Library/Frameworks/Python.framework/Versions/3.12/lib/python3.12/site-packages/patsy/highlevel.py:164\u001b[0m, in \u001b[0;36m_do_highlevel_design\u001b[0;34m(formula_like, data, eval_env, NA_action, return_type)\u001b[0m\n\u001b[1;32m    162\u001b[0m \u001b[38;5;28;01mdef\u001b[39;00m \u001b[38;5;21mdata_iter_maker\u001b[39m():\n\u001b[1;32m    163\u001b[0m     \u001b[38;5;28;01mreturn\u001b[39;00m \u001b[38;5;28miter\u001b[39m([data])\n\u001b[0;32m--> 164\u001b[0m design_infos \u001b[38;5;241m=\u001b[39m \u001b[43m_try_incr_builders\u001b[49m\u001b[43m(\u001b[49m\u001b[43mformula_like\u001b[49m\u001b[43m,\u001b[49m\u001b[43m \u001b[49m\u001b[43mdata_iter_maker\u001b[49m\u001b[43m,\u001b[49m\u001b[43m \u001b[49m\u001b[43meval_env\u001b[49m\u001b[43m,\u001b[49m\n\u001b[1;32m    165\u001b[0m \u001b[43m                                  \u001b[49m\u001b[43mNA_action\u001b[49m\u001b[43m)\u001b[49m\n\u001b[1;32m    166\u001b[0m \u001b[38;5;28;01mif\u001b[39;00m design_infos \u001b[38;5;129;01mis\u001b[39;00m \u001b[38;5;129;01mnot\u001b[39;00m \u001b[38;5;28;01mNone\u001b[39;00m:\n\u001b[1;32m    167\u001b[0m     \u001b[38;5;28;01mreturn\u001b[39;00m build_design_matrices(design_infos, data,\n\u001b[1;32m    168\u001b[0m                                  NA_action\u001b[38;5;241m=\u001b[39mNA_action,\n\u001b[1;32m    169\u001b[0m                                  return_type\u001b[38;5;241m=\u001b[39mreturn_type)\n",
            "File \u001b[0;32m/Library/Frameworks/Python.framework/Versions/3.12/lib/python3.12/site-packages/patsy/highlevel.py:66\u001b[0m, in \u001b[0;36m_try_incr_builders\u001b[0;34m(formula_like, data_iter_maker, eval_env, NA_action)\u001b[0m\n\u001b[1;32m     64\u001b[0m \u001b[38;5;28;01mif\u001b[39;00m \u001b[38;5;28misinstance\u001b[39m(formula_like, ModelDesc):\n\u001b[1;32m     65\u001b[0m     \u001b[38;5;28;01massert\u001b[39;00m \u001b[38;5;28misinstance\u001b[39m(eval_env, EvalEnvironment)\n\u001b[0;32m---> 66\u001b[0m     \u001b[38;5;28;01mreturn\u001b[39;00m \u001b[43mdesign_matrix_builders\u001b[49m\u001b[43m(\u001b[49m\u001b[43m[\u001b[49m\u001b[43mformula_like\u001b[49m\u001b[38;5;241;43m.\u001b[39;49m\u001b[43mlhs_termlist\u001b[49m\u001b[43m,\u001b[49m\n\u001b[1;32m     67\u001b[0m \u001b[43m                                   \u001b[49m\u001b[43mformula_like\u001b[49m\u001b[38;5;241;43m.\u001b[39;49m\u001b[43mrhs_termlist\u001b[49m\u001b[43m]\u001b[49m\u001b[43m,\u001b[49m\n\u001b[1;32m     68\u001b[0m \u001b[43m                                  \u001b[49m\u001b[43mdata_iter_maker\u001b[49m\u001b[43m,\u001b[49m\n\u001b[1;32m     69\u001b[0m \u001b[43m                                  \u001b[49m\u001b[43meval_env\u001b[49m\u001b[43m,\u001b[49m\n\u001b[1;32m     70\u001b[0m \u001b[43m                                  \u001b[49m\u001b[43mNA_action\u001b[49m\u001b[43m)\u001b[49m\n\u001b[1;32m     71\u001b[0m \u001b[38;5;28;01melse\u001b[39;00m:\n\u001b[1;32m     72\u001b[0m     \u001b[38;5;28;01mreturn\u001b[39;00m \u001b[38;5;28;01mNone\u001b[39;00m\n",
            "File \u001b[0;32m/Library/Frameworks/Python.framework/Versions/3.12/lib/python3.12/site-packages/patsy/build.py:693\u001b[0m, in \u001b[0;36mdesign_matrix_builders\u001b[0;34m(termlists, data_iter_maker, eval_env, NA_action)\u001b[0m\n\u001b[1;32m    689\u001b[0m factor_states \u001b[38;5;241m=\u001b[39m _factors_memorize(all_factors, data_iter_maker, eval_env)\n\u001b[1;32m    690\u001b[0m \u001b[38;5;66;03m# Now all the factors have working eval methods, so we can evaluate them\u001b[39;00m\n\u001b[1;32m    691\u001b[0m \u001b[38;5;66;03m# on some data to find out what type of data they return.\u001b[39;00m\n\u001b[1;32m    692\u001b[0m (num_column_counts,\n\u001b[0;32m--> 693\u001b[0m  cat_levels_contrasts) \u001b[38;5;241m=\u001b[39m \u001b[43m_examine_factor_types\u001b[49m\u001b[43m(\u001b[49m\u001b[43mall_factors\u001b[49m\u001b[43m,\u001b[49m\n\u001b[1;32m    694\u001b[0m \u001b[43m                                               \u001b[49m\u001b[43mfactor_states\u001b[49m\u001b[43m,\u001b[49m\n\u001b[1;32m    695\u001b[0m \u001b[43m                                               \u001b[49m\u001b[43mdata_iter_maker\u001b[49m\u001b[43m,\u001b[49m\n\u001b[1;32m    696\u001b[0m \u001b[43m                                               \u001b[49m\u001b[43mNA_action\u001b[49m\u001b[43m)\u001b[49m\n\u001b[1;32m    697\u001b[0m \u001b[38;5;66;03m# Now we need the factor infos, which encapsulate the knowledge of\u001b[39;00m\n\u001b[1;32m    698\u001b[0m \u001b[38;5;66;03m# how to turn any given factor into a chunk of data:\u001b[39;00m\n\u001b[1;32m    699\u001b[0m factor_infos \u001b[38;5;241m=\u001b[39m {}\n",
            "File \u001b[0;32m/Library/Frameworks/Python.framework/Versions/3.12/lib/python3.12/site-packages/patsy/build.py:443\u001b[0m, in \u001b[0;36m_examine_factor_types\u001b[0;34m(factors, factor_states, data_iter_maker, NA_action)\u001b[0m\n\u001b[1;32m    441\u001b[0m \u001b[38;5;28;01mfor\u001b[39;00m data \u001b[38;5;129;01min\u001b[39;00m data_iter_maker():\n\u001b[1;32m    442\u001b[0m     \u001b[38;5;28;01mfor\u001b[39;00m factor \u001b[38;5;129;01min\u001b[39;00m \u001b[38;5;28mlist\u001b[39m(examine_needed):\n\u001b[0;32m--> 443\u001b[0m         value \u001b[38;5;241m=\u001b[39m \u001b[43mfactor\u001b[49m\u001b[38;5;241;43m.\u001b[39;49m\u001b[43meval\u001b[49m\u001b[43m(\u001b[49m\u001b[43mfactor_states\u001b[49m\u001b[43m[\u001b[49m\u001b[43mfactor\u001b[49m\u001b[43m]\u001b[49m\u001b[43m,\u001b[49m\u001b[43m \u001b[49m\u001b[43mdata\u001b[49m\u001b[43m)\u001b[49m\n\u001b[1;32m    444\u001b[0m         \u001b[38;5;28;01mif\u001b[39;00m factor \u001b[38;5;129;01min\u001b[39;00m cat_sniffers \u001b[38;5;129;01mor\u001b[39;00m guess_categorical(value):\n\u001b[1;32m    445\u001b[0m             \u001b[38;5;28;01mif\u001b[39;00m factor \u001b[38;5;129;01mnot\u001b[39;00m \u001b[38;5;129;01min\u001b[39;00m cat_sniffers:\n",
            "File \u001b[0;32m/Library/Frameworks/Python.framework/Versions/3.12/lib/python3.12/site-packages/patsy/eval.py:568\u001b[0m, in \u001b[0;36mEvalFactor.eval\u001b[0;34m(self, memorize_state, data)\u001b[0m\n\u001b[1;32m    567\u001b[0m \u001b[38;5;28;01mdef\u001b[39;00m \u001b[38;5;21meval\u001b[39m(\u001b[38;5;28mself\u001b[39m, memorize_state, data):\n\u001b[0;32m--> 568\u001b[0m     \u001b[38;5;28;01mreturn\u001b[39;00m \u001b[38;5;28;43mself\u001b[39;49m\u001b[38;5;241;43m.\u001b[39;49m\u001b[43m_eval\u001b[49m\u001b[43m(\u001b[49m\u001b[43mmemorize_state\u001b[49m\u001b[43m[\u001b[49m\u001b[38;5;124;43m\"\u001b[39;49m\u001b[38;5;124;43meval_code\u001b[39;49m\u001b[38;5;124;43m\"\u001b[39;49m\u001b[43m]\u001b[49m\u001b[43m,\u001b[49m\n\u001b[1;32m    569\u001b[0m \u001b[43m                      \u001b[49m\u001b[43mmemorize_state\u001b[49m\u001b[43m,\u001b[49m\n\u001b[1;32m    570\u001b[0m \u001b[43m                      \u001b[49m\u001b[43mdata\u001b[49m\u001b[43m)\u001b[49m\n",
            "File \u001b[0;32m/Library/Frameworks/Python.framework/Versions/3.12/lib/python3.12/site-packages/patsy/eval.py:551\u001b[0m, in \u001b[0;36mEvalFactor._eval\u001b[0;34m(self, code, memorize_state, data)\u001b[0m\n\u001b[1;32m    549\u001b[0m \u001b[38;5;28;01mdef\u001b[39;00m \u001b[38;5;21m_eval\u001b[39m(\u001b[38;5;28mself\u001b[39m, code, memorize_state, data):\n\u001b[1;32m    550\u001b[0m     inner_namespace \u001b[38;5;241m=\u001b[39m VarLookupDict([data, memorize_state[\u001b[38;5;124m\"\u001b[39m\u001b[38;5;124mtransforms\u001b[39m\u001b[38;5;124m\"\u001b[39m]])\n\u001b[0;32m--> 551\u001b[0m     \u001b[38;5;28;01mreturn\u001b[39;00m \u001b[43mcall_and_wrap_exc\u001b[49m\u001b[43m(\u001b[49m\u001b[38;5;124;43m\"\u001b[39;49m\u001b[38;5;124;43mError evaluating factor\u001b[39;49m\u001b[38;5;124;43m\"\u001b[39;49m\u001b[43m,\u001b[49m\n\u001b[1;32m    552\u001b[0m \u001b[43m                             \u001b[49m\u001b[38;5;28;43mself\u001b[39;49m\u001b[43m,\u001b[49m\n\u001b[1;32m    553\u001b[0m \u001b[43m                             \u001b[49m\u001b[43mmemorize_state\u001b[49m\u001b[43m[\u001b[49m\u001b[38;5;124;43m\"\u001b[39;49m\u001b[38;5;124;43meval_env\u001b[39;49m\u001b[38;5;124;43m\"\u001b[39;49m\u001b[43m]\u001b[49m\u001b[38;5;241;43m.\u001b[39;49m\u001b[43meval\u001b[49m\u001b[43m,\u001b[49m\n\u001b[1;32m    554\u001b[0m \u001b[43m                             \u001b[49m\u001b[43mcode\u001b[49m\u001b[43m,\u001b[49m\n\u001b[1;32m    555\u001b[0m \u001b[43m                             \u001b[49m\u001b[43minner_namespace\u001b[49m\u001b[38;5;241;43m=\u001b[39;49m\u001b[43minner_namespace\u001b[49m\u001b[43m)\u001b[49m\n",
            "File \u001b[0;32m/Library/Frameworks/Python.framework/Versions/3.12/lib/python3.12/site-packages/patsy/compat.py:43\u001b[0m, in \u001b[0;36mcall_and_wrap_exc\u001b[0;34m(msg, origin, f, *args, **kwargs)\u001b[0m\n\u001b[1;32m     39\u001b[0m     new_exc \u001b[38;5;241m=\u001b[39m PatsyError(\u001b[38;5;124m\"\u001b[39m\u001b[38;5;132;01m%s\u001b[39;00m\u001b[38;5;124m: \u001b[39m\u001b[38;5;132;01m%s\u001b[39;00m\u001b[38;5;124m: \u001b[39m\u001b[38;5;132;01m%s\u001b[39;00m\u001b[38;5;124m\"\u001b[39m\n\u001b[1;32m     40\u001b[0m                          \u001b[38;5;241m%\u001b[39m (msg, e\u001b[38;5;241m.\u001b[39m\u001b[38;5;18m__class__\u001b[39m\u001b[38;5;241m.\u001b[39m\u001b[38;5;18m__name__\u001b[39m, e),\n\u001b[1;32m     41\u001b[0m                          origin)\n\u001b[1;32m     42\u001b[0m     \u001b[38;5;66;03m# Use 'exec' to hide this syntax from the Python 2 parser:\u001b[39;00m\n\u001b[0;32m---> 43\u001b[0m     \u001b[43mexec\u001b[49m\u001b[43m(\u001b[49m\u001b[38;5;124;43m\"\u001b[39;49m\u001b[38;5;124;43mraise new_exc from e\u001b[39;49m\u001b[38;5;124;43m\"\u001b[39;49m\u001b[43m)\u001b[49m\n\u001b[1;32m     44\u001b[0m \u001b[38;5;28;01melse\u001b[39;00m:\n\u001b[1;32m     45\u001b[0m     \u001b[38;5;66;03m# In python 2, we just let the original exception escape -- better\u001b[39;00m\n\u001b[1;32m     46\u001b[0m     \u001b[38;5;66;03m# than destroying the traceback. But if it's a PatsyError, we can\u001b[39;00m\n\u001b[1;32m     47\u001b[0m     \u001b[38;5;66;03m# at least set the origin properly.\u001b[39;00m\n\u001b[1;32m     48\u001b[0m     \u001b[38;5;28;01mif\u001b[39;00m \u001b[38;5;28misinstance\u001b[39m(e, PatsyError):\n",
            "File \u001b[0;32m<string>:1\u001b[0m\n",
            "\u001b[0;31mPatsyError\u001b[0m: Error evaluating factor: NameError: name 'log_distance' is not defined\n    log_flows ~ station_origin + jobs + log_distance-1\n                                        ^^^^^^^^^^^^"
          ]
        }
      ],
      "source": [
        "formula = 'log_flows ~ station_origin + jobs + log_distance-1'\n",
        "\n",
        "initial_constrained_model_negativebinomial_log = smf.glm(formula=formula, data=data, family=sm.families.NegativeBinomial()).fit()\n",
        "\n",
        "print(\"R-squared: \", CalcRSqaured(data[\"log_flows\"], initial_constrained_model_negativebinomial_log.mu))\n",
        "print(\"RMSE: \", CalcRMSE(data[\"log_flows\"], initial_constrained_model_negativebinomial_log.mu))"
      ]
    },
    {
      "cell_type": "code",
      "execution_count": 77,
      "metadata": {},
      "outputs": [
        {
          "data": {
            "text/html": [
              "<div>\n",
              "<style scoped>\n",
              "    .dataframe tbody tr th:only-of-type {\n",
              "        vertical-align: middle;\n",
              "    }\n",
              "\n",
              "    .dataframe tbody tr th {\n",
              "        vertical-align: top;\n",
              "    }\n",
              "\n",
              "    .dataframe thead th {\n",
              "        text-align: right;\n",
              "    }\n",
              "</style>\n",
              "<table border=\"1\" class=\"dataframe\">\n",
              "  <thead>\n",
              "    <tr style=\"text-align: right;\">\n",
              "      <th></th>\n",
              "      <th>station_origin</th>\n",
              "      <th>station_destination</th>\n",
              "      <th>flows</th>\n",
              "      <th>population</th>\n",
              "      <th>jobs</th>\n",
              "      <th>distance</th>\n",
              "      <th>log_distance</th>\n",
              "      <th>log_jobs</th>\n",
              "      <th>log_flows</th>\n",
              "      <th>inv_distance</th>\n",
              "      <th>adjusted_flows</th>\n",
              "      <th>new_flows</th>\n",
              "    </tr>\n",
              "  </thead>\n",
              "  <tbody>\n",
              "    <tr>\n",
              "      <th>0</th>\n",
              "      <td>Abbey Road</td>\n",
              "      <td>Bank and Monument</td>\n",
              "      <td>0</td>\n",
              "      <td>599</td>\n",
              "      <td>78549</td>\n",
              "      <td>8131.525097</td>\n",
              "      <td>9.003627</td>\n",
              "      <td>11.271491</td>\n",
              "      <td>0.000000</td>\n",
              "      <td>0.000123</td>\n",
              "      <td>75.683433</td>\n",
              "      <td>4.905852</td>\n",
              "    </tr>\n",
              "    <tr>\n",
              "      <th>1</th>\n",
              "      <td>Abbey Road</td>\n",
              "      <td>Beckton</td>\n",
              "      <td>1</td>\n",
              "      <td>599</td>\n",
              "      <td>442</td>\n",
              "      <td>8510.121774</td>\n",
              "      <td>9.049129</td>\n",
              "      <td>6.093570</td>\n",
              "      <td>0.693147</td>\n",
              "      <td>0.000118</td>\n",
              "      <td>15.738036</td>\n",
              "      <td>1.020150</td>\n",
              "    </tr>\n",
              "    <tr>\n",
              "      <th>2</th>\n",
              "      <td>Abbey Road</td>\n",
              "      <td>Blackwall</td>\n",
              "      <td>3</td>\n",
              "      <td>599</td>\n",
              "      <td>665</td>\n",
              "      <td>3775.448872</td>\n",
              "      <td>8.236539</td>\n",
              "      <td>6.501290</td>\n",
              "      <td>1.386294</td>\n",
              "      <td>0.000265</td>\n",
              "      <td>21.666638</td>\n",
              "      <td>1.404446</td>\n",
              "    </tr>\n",
              "    <tr>\n",
              "      <th>3</th>\n",
              "      <td>Abbey Road</td>\n",
              "      <td>Canary Wharf</td>\n",
              "      <td>1</td>\n",
              "      <td>599</td>\n",
              "      <td>58772</td>\n",
              "      <td>5086.514220</td>\n",
              "      <td>8.534545</td>\n",
              "      <td>10.981438</td>\n",
              "      <td>0.693147</td>\n",
              "      <td>0.000197</td>\n",
              "      <td>62.680994</td>\n",
              "      <td>4.063025</td>\n",
              "    </tr>\n",
              "    <tr>\n",
              "      <th>4</th>\n",
              "      <td>Abbey Road</td>\n",
              "      <td>Canning Town</td>\n",
              "      <td>37</td>\n",
              "      <td>599</td>\n",
              "      <td>15428</td>\n",
              "      <td>2228.923167</td>\n",
              "      <td>7.709722</td>\n",
              "      <td>9.644004</td>\n",
              "      <td>3.637586</td>\n",
              "      <td>0.000449</td>\n",
              "      <td>32.163353</td>\n",
              "      <td>2.084850</td>\n",
              "    </tr>\n",
              "    <tr>\n",
              "      <th>...</th>\n",
              "      <td>...</td>\n",
              "      <td>...</td>\n",
              "      <td>...</td>\n",
              "      <td>...</td>\n",
              "      <td>...</td>\n",
              "      <td>...</td>\n",
              "      <td>...</td>\n",
              "      <td>...</td>\n",
              "      <td>...</td>\n",
              "      <td>...</td>\n",
              "      <td>...</td>\n",
              "      <td>...</td>\n",
              "    </tr>\n",
              "    <tr>\n",
              "      <th>61469</th>\n",
              "      <td>Woolwich Arsenal</td>\n",
              "      <td>Tower Gateway</td>\n",
              "      <td>127</td>\n",
              "      <td>7892</td>\n",
              "      <td>3342</td>\n",
              "      <td>13401.795549</td>\n",
              "      <td>9.503219</td>\n",
              "      <td>8.114624</td>\n",
              "      <td>4.852030</td>\n",
              "      <td>0.000075</td>\n",
              "      <td>40.413003</td>\n",
              "      <td>2.619598</td>\n",
              "    </tr>\n",
              "    <tr>\n",
              "      <th>61470</th>\n",
              "      <td>Woolwich Arsenal</td>\n",
              "      <td>West Ham</td>\n",
              "      <td>608</td>\n",
              "      <td>7892</td>\n",
              "      <td>5487</td>\n",
              "      <td>8701.454361</td>\n",
              "      <td>9.071360</td>\n",
              "      <td>8.610319</td>\n",
              "      <td>6.411818</td>\n",
              "      <td>0.000115</td>\n",
              "      <td>57.661142</td>\n",
              "      <td>3.737635</td>\n",
              "    </tr>\n",
              "    <tr>\n",
              "      <th>61471</th>\n",
              "      <td>Woolwich Arsenal</td>\n",
              "      <td>West India Quay</td>\n",
              "      <td>6</td>\n",
              "      <td>7892</td>\n",
              "      <td>400</td>\n",
              "      <td>9536.720451</td>\n",
              "      <td>9.163010</td>\n",
              "      <td>5.993961</td>\n",
              "      <td>1.945910</td>\n",
              "      <td>0.000105</td>\n",
              "      <td>49.319624</td>\n",
              "      <td>3.196932</td>\n",
              "    </tr>\n",
              "    <tr>\n",
              "      <th>61472</th>\n",
              "      <td>Woolwich Arsenal</td>\n",
              "      <td>West Silvertown</td>\n",
              "      <td>81</td>\n",
              "      <td>7892</td>\n",
              "      <td>893</td>\n",
              "      <td>5355.248554</td>\n",
              "      <td>8.586019</td>\n",
              "      <td>6.795706</td>\n",
              "      <td>4.406719</td>\n",
              "      <td>0.000187</td>\n",
              "      <td>65.793388</td>\n",
              "      <td>4.264772</td>\n",
              "    </tr>\n",
              "    <tr>\n",
              "      <th>61473</th>\n",
              "      <td>Woolwich Arsenal</td>\n",
              "      <td>Westferry</td>\n",
              "      <td>76</td>\n",
              "      <td>7892</td>\n",
              "      <td>1250</td>\n",
              "      <td>9958.371322</td>\n",
              "      <td>9.206269</td>\n",
              "      <td>7.131699</td>\n",
              "      <td>4.343805</td>\n",
              "      <td>0.000100</td>\n",
              "      <td>48.767337</td>\n",
              "      <td>3.161132</td>\n",
              "    </tr>\n",
              "  </tbody>\n",
              "</table>\n",
              "<p>61474 rows × 12 columns</p>\n",
              "</div>"
            ],
            "text/plain": [
              "         station_origin station_destination  flows  population   jobs  \\\n",
              "0            Abbey Road   Bank and Monument      0         599  78549   \n",
              "1            Abbey Road             Beckton      1         599    442   \n",
              "2            Abbey Road           Blackwall      3         599    665   \n",
              "3            Abbey Road        Canary Wharf      1         599  58772   \n",
              "4            Abbey Road        Canning Town     37         599  15428   \n",
              "...                 ...                 ...    ...         ...    ...   \n",
              "61469  Woolwich Arsenal       Tower Gateway    127        7892   3342   \n",
              "61470  Woolwich Arsenal            West Ham    608        7892   5487   \n",
              "61471  Woolwich Arsenal     West India Quay      6        7892    400   \n",
              "61472  Woolwich Arsenal     West Silvertown     81        7892    893   \n",
              "61473  Woolwich Arsenal           Westferry     76        7892   1250   \n",
              "\n",
              "           distance  log_distance   log_jobs  log_flows  inv_distance  \\\n",
              "0       8131.525097      9.003627  11.271491   0.000000      0.000123   \n",
              "1       8510.121774      9.049129   6.093570   0.693147      0.000118   \n",
              "2       3775.448872      8.236539   6.501290   1.386294      0.000265   \n",
              "3       5086.514220      8.534545  10.981438   0.693147      0.000197   \n",
              "4       2228.923167      7.709722   9.644004   3.637586      0.000449   \n",
              "...             ...           ...        ...        ...           ...   \n",
              "61469  13401.795549      9.503219   8.114624   4.852030      0.000075   \n",
              "61470   8701.454361      9.071360   8.610319   6.411818      0.000115   \n",
              "61471   9536.720451      9.163010   5.993961   1.945910      0.000105   \n",
              "61472   5355.248554      8.586019   6.795706   4.406719      0.000187   \n",
              "61473   9958.371322      9.206269   7.131699   4.343805      0.000100   \n",
              "\n",
              "       adjusted_flows  new_flows  \n",
              "0           75.683433   4.905852  \n",
              "1           15.738036   1.020150  \n",
              "2           21.666638   1.404446  \n",
              "3           62.680994   4.063025  \n",
              "4           32.163353   2.084850  \n",
              "...               ...        ...  \n",
              "61469       40.413003   2.619598  \n",
              "61470       57.661142   3.737635  \n",
              "61471       49.319624   3.196932  \n",
              "61472       65.793388   4.264772  \n",
              "61473       48.767337   3.161132  \n",
              "\n",
              "[61474 rows x 12 columns]"
            ]
          },
          "execution_count": 77,
          "metadata": {},
          "output_type": "execute_result"
        }
      ],
      "source": [
        "data"
      ]
    },
    {
      "cell_type": "code",
      "execution_count": 111,
      "metadata": {},
      "outputs": [
        {
          "name": "stderr",
          "output_type": "stream",
          "text": [
            "/var/folders/rv/j_vzprd56j5fpq5_0hvsy8v80000gn/T/ipykernel_10846/3185961820.py:2: FutureWarning: Series.__getitem__ treating keys as positions is deprecated. In a future version, integer keys will always be treated as labels (consistent with DataFrame behavior). To access a value by position, use `ser.iloc[pos]`\n",
            "  gamma = initial_constrained_model_poisson.params[-2]\n",
            "/var/folders/rv/j_vzprd56j5fpq5_0hvsy8v80000gn/T/ipykernel_10846/3185961820.py:3: FutureWarning: Series.__getitem__ treating keys as positions is deprecated. In a future version, integer keys will always be treated as labels (consistent with DataFrame behavior). To access a value by position, use `ser.iloc[pos]`\n",
            "  beta = -initial_constrained_model_poisson.params[-1]\n"
          ]
        }
      ],
      "source": [
        "alpha_i = initial_constrained_model_poisson.params[0:-2]\n",
        "gamma = initial_constrained_model_poisson.params[-2]\n",
        "beta = -initial_constrained_model_poisson.params[-1]"
      ]
    },
    {
      "cell_type": "code",
      "execution_count": 144,
      "metadata": {
        "id": "s-aLfy8V72js"
      },
      "outputs": [],
      "source": [
        "data0 = data"
      ]
    },
    {
      "cell_type": "code",
      "execution_count": 154,
      "metadata": {},
      "outputs": [],
      "source": [
        "data0.loc[data0['station_destination'] == 'Canary Wharf', 'jobs'] *= 0.5"
      ]
    },
    {
      "cell_type": "code",
      "execution_count": 157,
      "metadata": {},
      "outputs": [
        {
          "name": "stderr",
          "output_type": "stream",
          "text": [
            "<>:5: SyntaxWarning: invalid escape sequence '\\['\n",
            "<>:5: SyntaxWarning: invalid escape sequence '\\]'\n",
            "<>:5: SyntaxWarning: invalid escape sequence '\\['\n",
            "<>:5: SyntaxWarning: invalid escape sequence '\\]'\n",
            "/var/folders/rv/j_vzprd56j5fpq5_0hvsy8v80000gn/T/ipykernel_10846/4292933020.py:5: SyntaxWarning: invalid escape sequence '\\['\n",
            "  to_repl = [\"(station_origin)\", \"\\[\", \"\\]\"]\n",
            "/var/folders/rv/j_vzprd56j5fpq5_0hvsy8v80000gn/T/ipykernel_10846/4292933020.py:5: SyntaxWarning: invalid escape sequence '\\]'\n",
            "  to_repl = [\"(station_origin)\", \"\\[\", \"\\]\"]\n"
          ]
        },
        {
          "data": {
            "text/html": [
              "<div>\n",
              "<style scoped>\n",
              "    .dataframe tbody tr th:only-of-type {\n",
              "        vertical-align: middle;\n",
              "    }\n",
              "\n",
              "    .dataframe tbody tr th {\n",
              "        vertical-align: top;\n",
              "    }\n",
              "\n",
              "    .dataframe thead th {\n",
              "        text-align: right;\n",
              "    }\n",
              "</style>\n",
              "<table border=\"1\" class=\"dataframe\">\n",
              "  <thead>\n",
              "    <tr style=\"text-align: right;\">\n",
              "      <th></th>\n",
              "      <th>station_origin</th>\n",
              "      <th>station_destination</th>\n",
              "      <th>flows</th>\n",
              "      <th>population</th>\n",
              "      <th>jobs</th>\n",
              "      <th>distance</th>\n",
              "      <th>alpha_i_x</th>\n",
              "      <th>new_flow</th>\n",
              "      <th>alpha_i_y</th>\n",
              "      <th>alpha_i</th>\n",
              "    </tr>\n",
              "  </thead>\n",
              "  <tbody>\n",
              "    <tr>\n",
              "      <th>0</th>\n",
              "      <td>Abbey Road</td>\n",
              "      <td>Bank and Monument</td>\n",
              "      <td>0</td>\n",
              "      <td>599</td>\n",
              "      <td>78549</td>\n",
              "      <td>8131.525097</td>\n",
              "      <td>0.577893</td>\n",
              "      <td>4.905852</td>\n",
              "      <td>0.577893</td>\n",
              "      <td>0.577893</td>\n",
              "    </tr>\n",
              "    <tr>\n",
              "      <th>1</th>\n",
              "      <td>Abbey Road</td>\n",
              "      <td>Beckton</td>\n",
              "      <td>1</td>\n",
              "      <td>599</td>\n",
              "      <td>442</td>\n",
              "      <td>8510.121774</td>\n",
              "      <td>0.577893</td>\n",
              "      <td>1.020150</td>\n",
              "      <td>0.577893</td>\n",
              "      <td>0.577893</td>\n",
              "    </tr>\n",
              "    <tr>\n",
              "      <th>2</th>\n",
              "      <td>Abbey Road</td>\n",
              "      <td>Blackwall</td>\n",
              "      <td>3</td>\n",
              "      <td>599</td>\n",
              "      <td>665</td>\n",
              "      <td>3775.448872</td>\n",
              "      <td>0.577893</td>\n",
              "      <td>1.404446</td>\n",
              "      <td>0.577893</td>\n",
              "      <td>0.577893</td>\n",
              "    </tr>\n",
              "    <tr>\n",
              "      <th>3</th>\n",
              "      <td>Abbey Road</td>\n",
              "      <td>Canary Wharf</td>\n",
              "      <td>1</td>\n",
              "      <td>599</td>\n",
              "      <td>29386</td>\n",
              "      <td>5086.514220</td>\n",
              "      <td>0.577893</td>\n",
              "      <td>4.063025</td>\n",
              "      <td>0.577893</td>\n",
              "      <td>0.577893</td>\n",
              "    </tr>\n",
              "    <tr>\n",
              "      <th>4</th>\n",
              "      <td>Abbey Road</td>\n",
              "      <td>Canning Town</td>\n",
              "      <td>37</td>\n",
              "      <td>599</td>\n",
              "      <td>15428</td>\n",
              "      <td>2228.923167</td>\n",
              "      <td>0.577893</td>\n",
              "      <td>2.084850</td>\n",
              "      <td>0.577893</td>\n",
              "      <td>0.577893</td>\n",
              "    </tr>\n",
              "  </tbody>\n",
              "</table>\n",
              "</div>"
            ],
            "text/plain": [
              "  station_origin station_destination  flows  population   jobs     distance  \\\n",
              "0     Abbey Road   Bank and Monument      0         599  78549  8131.525097   \n",
              "1     Abbey Road             Beckton      1         599    442  8510.121774   \n",
              "2     Abbey Road           Blackwall      3         599    665  3775.448872   \n",
              "3     Abbey Road        Canary Wharf      1         599  29386  5086.514220   \n",
              "4     Abbey Road        Canning Town     37         599  15428  2228.923167   \n",
              "\n",
              "   alpha_i_x  new_flow  alpha_i_y   alpha_i  \n",
              "0   0.577893  4.905852   0.577893  0.577893  \n",
              "1   0.577893  1.020150   0.577893  0.577893  \n",
              "2   0.577893  1.404446   0.577893  0.577893  \n",
              "3   0.577893  4.063025   0.577893  0.577893  \n",
              "4   0.577893  2.084850   0.577893  0.577893  "
            ]
          },
          "execution_count": 157,
          "metadata": {},
          "output_type": "execute_result"
        }
      ],
      "source": [
        "coefs = pd.DataFrame()\n",
        "coefs = pd.DataFrame(initial_constrained_model_poisson.params)\n",
        "coefs.reset_index(inplace=True)\n",
        "coefs.rename(columns = {0:\"alpha_i\", \"index\":\"coef\"}, inplace = True)\n",
        "to_repl = [\"(station_origin)\", \"\\[\", \"\\]\"]\n",
        "for x in to_repl:\n",
        "    coefs[\"coef\"] = coefs[\"coef\"].str.replace(x, \"\",regex=True)\n",
        "#then once you have done this you can join them back into the dataframes\n",
        "data0 = data0.merge(coefs, left_on=\"station_origin\", right_on=\"coef\", how = \"left\")\n",
        "data0.drop(columns = [\"coef\"], inplace = True)\n",
        "#check this has worked\n",
        "data0.head()"
      ]
    },
    {
      "cell_type": "code",
      "execution_count": 161,
      "metadata": {},
      "outputs": [],
      "source": [
        "data0[\"log_new_flow\"] = np.exp(data0[\"alpha_i\"]+gamma*(data0[\"jobs\"]) - beta*data0[\"distance\"])"
      ]
    },
    {
      "cell_type": "code",
      "execution_count": 107,
      "metadata": {},
      "outputs": [
        {
          "name": "stderr",
          "output_type": "stream",
          "text": [
            "/var/folders/rv/j_vzprd56j5fpq5_0hvsy8v80000gn/T/ipykernel_10846/3369761644.py:5: FutureWarning: The provided callable <function sum at 0x1126aae80> is currently using DataFrameGroupBy.sum. In a future version of pandas, the provided callable will be used directly. To keep current behavior pass the string \"sum\" instead.\n",
            "  data = data.pivot_table(values =\"log_new_flow\", index=\"station_origin\", columns = \"station_destination\",\n",
            "/var/folders/rv/j_vzprd56j5fpq5_0hvsy8v80000gn/T/ipykernel_10846/3369761644.py:5: FutureWarning: The provided callable <function sum at 0x1126aae80> is currently using DataFrameGroupBy.sum. In a future version of pandas, the provided callable will be used directly. To keep current behavior pass the string \"sum\" instead.\n",
            "  data = data.pivot_table(values =\"log_new_flow\", index=\"station_origin\", columns = \"station_destination\",\n",
            "/var/folders/rv/j_vzprd56j5fpq5_0hvsy8v80000gn/T/ipykernel_10846/3369761644.py:5: FutureWarning: The provided callable <function sum at 0x1126aae80> is currently using DataFrameGroupBy.sum. In a future version of pandas, the provided callable will be used directly. To keep current behavior pass the string \"sum\" instead.\n",
            "  data = data.pivot_table(values =\"log_new_flow\", index=\"station_origin\", columns = \"station_destination\",\n"
          ]
        },
        {
          "data": {
            "text/html": [
              "<div>\n",
              "<style scoped>\n",
              "    .dataframe tbody tr th:only-of-type {\n",
              "        vertical-align: middle;\n",
              "    }\n",
              "\n",
              "    .dataframe tbody tr th {\n",
              "        vertical-align: top;\n",
              "    }\n",
              "\n",
              "    .dataframe thead th {\n",
              "        text-align: right;\n",
              "    }\n",
              "</style>\n",
              "<table border=\"1\" class=\"dataframe\">\n",
              "  <thead>\n",
              "    <tr style=\"text-align: right;\">\n",
              "      <th>station_destination</th>\n",
              "      <th>Abbey Road</th>\n",
              "      <th>Acton Central</th>\n",
              "      <th>Acton Town</th>\n",
              "      <th>Aldgate</th>\n",
              "      <th>Aldgate East</th>\n",
              "      <th>All Saints</th>\n",
              "      <th>Alperton</th>\n",
              "      <th>Amersham</th>\n",
              "      <th>Anerley</th>\n",
              "      <th>Angel</th>\n",
              "      <th>...</th>\n",
              "      <th>Wimbledon</th>\n",
              "      <th>Wimbledon Park</th>\n",
              "      <th>Wood Green</th>\n",
              "      <th>Wood Lane</th>\n",
              "      <th>Wood Street</th>\n",
              "      <th>Woodford</th>\n",
              "      <th>Woodgrange Park</th>\n",
              "      <th>Woodside Park</th>\n",
              "      <th>Woolwich Arsenal</th>\n",
              "      <th>All</th>\n",
              "    </tr>\n",
              "    <tr>\n",
              "      <th>station_origin</th>\n",
              "      <th></th>\n",
              "      <th></th>\n",
              "      <th></th>\n",
              "      <th></th>\n",
              "      <th></th>\n",
              "      <th></th>\n",
              "      <th></th>\n",
              "      <th></th>\n",
              "      <th></th>\n",
              "      <th></th>\n",
              "      <th></th>\n",
              "      <th></th>\n",
              "      <th></th>\n",
              "      <th></th>\n",
              "      <th></th>\n",
              "      <th></th>\n",
              "      <th></th>\n",
              "      <th></th>\n",
              "      <th></th>\n",
              "      <th></th>\n",
              "      <th></th>\n",
              "    </tr>\n",
              "  </thead>\n",
              "  <tbody>\n",
              "    <tr>\n",
              "      <th>Abbey Road</th>\n",
              "      <td>NaN</td>\n",
              "      <td>NaN</td>\n",
              "      <td>NaN</td>\n",
              "      <td>NaN</td>\n",
              "      <td>NaN</td>\n",
              "      <td>NaN</td>\n",
              "      <td>NaN</td>\n",
              "      <td>NaN</td>\n",
              "      <td>NaN</td>\n",
              "      <td>NaN</td>\n",
              "      <td>...</td>\n",
              "      <td>NaN</td>\n",
              "      <td>NaN</td>\n",
              "      <td>NaN</td>\n",
              "      <td>NaN</td>\n",
              "      <td>NaN</td>\n",
              "      <td>NaN</td>\n",
              "      <td>NaN</td>\n",
              "      <td>NaN</td>\n",
              "      <td>1.0</td>\n",
              "      <td>47.0</td>\n",
              "    </tr>\n",
              "    <tr>\n",
              "      <th>Acton Central</th>\n",
              "      <td>NaN</td>\n",
              "      <td>NaN</td>\n",
              "      <td>NaN</td>\n",
              "      <td>NaN</td>\n",
              "      <td>NaN</td>\n",
              "      <td>NaN</td>\n",
              "      <td>NaN</td>\n",
              "      <td>NaN</td>\n",
              "      <td>NaN</td>\n",
              "      <td>NaN</td>\n",
              "      <td>...</td>\n",
              "      <td>NaN</td>\n",
              "      <td>NaN</td>\n",
              "      <td>NaN</td>\n",
              "      <td>NaN</td>\n",
              "      <td>NaN</td>\n",
              "      <td>NaN</td>\n",
              "      <td>1.0</td>\n",
              "      <td>NaN</td>\n",
              "      <td>NaN</td>\n",
              "      <td>97.0</td>\n",
              "    </tr>\n",
              "    <tr>\n",
              "      <th>Acton Town</th>\n",
              "      <td>NaN</td>\n",
              "      <td>NaN</td>\n",
              "      <td>NaN</td>\n",
              "      <td>2.0</td>\n",
              "      <td>1.0</td>\n",
              "      <td>NaN</td>\n",
              "      <td>3.0</td>\n",
              "      <td>0.0</td>\n",
              "      <td>NaN</td>\n",
              "      <td>2.0</td>\n",
              "      <td>...</td>\n",
              "      <td>2.0</td>\n",
              "      <td>2.0</td>\n",
              "      <td>1.0</td>\n",
              "      <td>3.0</td>\n",
              "      <td>NaN</td>\n",
              "      <td>0.0</td>\n",
              "      <td>NaN</td>\n",
              "      <td>1.0</td>\n",
              "      <td>NaN</td>\n",
              "      <td>409.0</td>\n",
              "    </tr>\n",
              "    <tr>\n",
              "      <th>Aldgate</th>\n",
              "      <td>NaN</td>\n",
              "      <td>NaN</td>\n",
              "      <td>1.0</td>\n",
              "      <td>NaN</td>\n",
              "      <td>2.0</td>\n",
              "      <td>NaN</td>\n",
              "      <td>NaN</td>\n",
              "      <td>0.0</td>\n",
              "      <td>NaN</td>\n",
              "      <td>2.0</td>\n",
              "      <td>...</td>\n",
              "      <td>1.0</td>\n",
              "      <td>NaN</td>\n",
              "      <td>1.0</td>\n",
              "      <td>1.0</td>\n",
              "      <td>NaN</td>\n",
              "      <td>1.0</td>\n",
              "      <td>NaN</td>\n",
              "      <td>1.0</td>\n",
              "      <td>NaN</td>\n",
              "      <td>226.0</td>\n",
              "    </tr>\n",
              "    <tr>\n",
              "      <th>Aldgate East</th>\n",
              "      <td>NaN</td>\n",
              "      <td>NaN</td>\n",
              "      <td>1.0</td>\n",
              "      <td>3.0</td>\n",
              "      <td>NaN</td>\n",
              "      <td>NaN</td>\n",
              "      <td>1.0</td>\n",
              "      <td>0.0</td>\n",
              "      <td>NaN</td>\n",
              "      <td>2.0</td>\n",
              "      <td>...</td>\n",
              "      <td>1.0</td>\n",
              "      <td>1.0</td>\n",
              "      <td>1.0</td>\n",
              "      <td>1.0</td>\n",
              "      <td>NaN</td>\n",
              "      <td>1.0</td>\n",
              "      <td>NaN</td>\n",
              "      <td>1.0</td>\n",
              "      <td>NaN</td>\n",
              "      <td>350.0</td>\n",
              "    </tr>\n",
              "    <tr>\n",
              "      <th>...</th>\n",
              "      <td>...</td>\n",
              "      <td>...</td>\n",
              "      <td>...</td>\n",
              "      <td>...</td>\n",
              "      <td>...</td>\n",
              "      <td>...</td>\n",
              "      <td>...</td>\n",
              "      <td>...</td>\n",
              "      <td>...</td>\n",
              "      <td>...</td>\n",
              "      <td>...</td>\n",
              "      <td>...</td>\n",
              "      <td>...</td>\n",
              "      <td>...</td>\n",
              "      <td>...</td>\n",
              "      <td>...</td>\n",
              "      <td>...</td>\n",
              "      <td>...</td>\n",
              "      <td>...</td>\n",
              "      <td>...</td>\n",
              "      <td>...</td>\n",
              "    </tr>\n",
              "    <tr>\n",
              "      <th>Woodford</th>\n",
              "      <td>NaN</td>\n",
              "      <td>NaN</td>\n",
              "      <td>1.0</td>\n",
              "      <td>2.0</td>\n",
              "      <td>3.0</td>\n",
              "      <td>NaN</td>\n",
              "      <td>NaN</td>\n",
              "      <td>NaN</td>\n",
              "      <td>NaN</td>\n",
              "      <td>2.0</td>\n",
              "      <td>...</td>\n",
              "      <td>1.0</td>\n",
              "      <td>NaN</td>\n",
              "      <td>1.0</td>\n",
              "      <td>NaN</td>\n",
              "      <td>NaN</td>\n",
              "      <td>NaN</td>\n",
              "      <td>NaN</td>\n",
              "      <td>NaN</td>\n",
              "      <td>NaN</td>\n",
              "      <td>387.0</td>\n",
              "    </tr>\n",
              "    <tr>\n",
              "      <th>Woodgrange Park</th>\n",
              "      <td>NaN</td>\n",
              "      <td>1.0</td>\n",
              "      <td>NaN</td>\n",
              "      <td>NaN</td>\n",
              "      <td>NaN</td>\n",
              "      <td>NaN</td>\n",
              "      <td>NaN</td>\n",
              "      <td>NaN</td>\n",
              "      <td>NaN</td>\n",
              "      <td>NaN</td>\n",
              "      <td>...</td>\n",
              "      <td>NaN</td>\n",
              "      <td>NaN</td>\n",
              "      <td>NaN</td>\n",
              "      <td>NaN</td>\n",
              "      <td>NaN</td>\n",
              "      <td>NaN</td>\n",
              "      <td>NaN</td>\n",
              "      <td>NaN</td>\n",
              "      <td>NaN</td>\n",
              "      <td>42.0</td>\n",
              "    </tr>\n",
              "    <tr>\n",
              "      <th>Woodside Park</th>\n",
              "      <td>NaN</td>\n",
              "      <td>NaN</td>\n",
              "      <td>1.0</td>\n",
              "      <td>2.0</td>\n",
              "      <td>2.0</td>\n",
              "      <td>NaN</td>\n",
              "      <td>1.0</td>\n",
              "      <td>NaN</td>\n",
              "      <td>NaN</td>\n",
              "      <td>2.0</td>\n",
              "      <td>...</td>\n",
              "      <td>1.0</td>\n",
              "      <td>NaN</td>\n",
              "      <td>1.0</td>\n",
              "      <td>NaN</td>\n",
              "      <td>NaN</td>\n",
              "      <td>NaN</td>\n",
              "      <td>NaN</td>\n",
              "      <td>NaN</td>\n",
              "      <td>NaN</td>\n",
              "      <td>318.0</td>\n",
              "    </tr>\n",
              "    <tr>\n",
              "      <th>Woolwich Arsenal</th>\n",
              "      <td>3.0</td>\n",
              "      <td>NaN</td>\n",
              "      <td>NaN</td>\n",
              "      <td>NaN</td>\n",
              "      <td>NaN</td>\n",
              "      <td>3.0</td>\n",
              "      <td>NaN</td>\n",
              "      <td>NaN</td>\n",
              "      <td>NaN</td>\n",
              "      <td>NaN</td>\n",
              "      <td>...</td>\n",
              "      <td>NaN</td>\n",
              "      <td>NaN</td>\n",
              "      <td>NaN</td>\n",
              "      <td>NaN</td>\n",
              "      <td>NaN</td>\n",
              "      <td>NaN</td>\n",
              "      <td>NaN</td>\n",
              "      <td>NaN</td>\n",
              "      <td>NaN</td>\n",
              "      <td>150.0</td>\n",
              "    </tr>\n",
              "    <tr>\n",
              "      <th>All</th>\n",
              "      <td>69.0</td>\n",
              "      <td>89.0</td>\n",
              "      <td>326.0</td>\n",
              "      <td>430.0</td>\n",
              "      <td>468.0</td>\n",
              "      <td>86.0</td>\n",
              "      <td>214.0</td>\n",
              "      <td>54.0</td>\n",
              "      <td>45.0</td>\n",
              "      <td>498.0</td>\n",
              "      <td>...</td>\n",
              "      <td>253.0</td>\n",
              "      <td>186.0</td>\n",
              "      <td>306.0</td>\n",
              "      <td>280.0</td>\n",
              "      <td>54.0</td>\n",
              "      <td>210.0</td>\n",
              "      <td>47.0</td>\n",
              "      <td>185.0</td>\n",
              "      <td>60.0</td>\n",
              "      <td>100122.0</td>\n",
              "    </tr>\n",
              "  </tbody>\n",
              "</table>\n",
              "<p>400 rows × 400 columns</p>\n",
              "</div>"
            ],
            "text/plain": [
              "station_destination  Abbey Road  Acton Central  Acton Town  Aldgate  \\\n",
              "station_origin                                                        \n",
              "Abbey Road                  NaN            NaN         NaN      NaN   \n",
              "Acton Central               NaN            NaN         NaN      NaN   \n",
              "Acton Town                  NaN            NaN         NaN      2.0   \n",
              "Aldgate                     NaN            NaN         1.0      NaN   \n",
              "Aldgate East                NaN            NaN         1.0      3.0   \n",
              "...                         ...            ...         ...      ...   \n",
              "Woodford                    NaN            NaN         1.0      2.0   \n",
              "Woodgrange Park             NaN            1.0         NaN      NaN   \n",
              "Woodside Park               NaN            NaN         1.0      2.0   \n",
              "Woolwich Arsenal            3.0            NaN         NaN      NaN   \n",
              "All                        69.0           89.0       326.0    430.0   \n",
              "\n",
              "station_destination  Aldgate East  All Saints  Alperton  Amersham  Anerley  \\\n",
              "station_origin                                                               \n",
              "Abbey Road                    NaN         NaN       NaN       NaN      NaN   \n",
              "Acton Central                 NaN         NaN       NaN       NaN      NaN   \n",
              "Acton Town                    1.0         NaN       3.0       0.0      NaN   \n",
              "Aldgate                       2.0         NaN       NaN       0.0      NaN   \n",
              "Aldgate East                  NaN         NaN       1.0       0.0      NaN   \n",
              "...                           ...         ...       ...       ...      ...   \n",
              "Woodford                      3.0         NaN       NaN       NaN      NaN   \n",
              "Woodgrange Park               NaN         NaN       NaN       NaN      NaN   \n",
              "Woodside Park                 2.0         NaN       1.0       NaN      NaN   \n",
              "Woolwich Arsenal              NaN         3.0       NaN       NaN      NaN   \n",
              "All                         468.0        86.0     214.0      54.0     45.0   \n",
              "\n",
              "station_destination  Angel  ...  Wimbledon  Wimbledon Park  Wood Green  \\\n",
              "station_origin              ...                                          \n",
              "Abbey Road             NaN  ...        NaN             NaN         NaN   \n",
              "Acton Central          NaN  ...        NaN             NaN         NaN   \n",
              "Acton Town             2.0  ...        2.0             2.0         1.0   \n",
              "Aldgate                2.0  ...        1.0             NaN         1.0   \n",
              "Aldgate East           2.0  ...        1.0             1.0         1.0   \n",
              "...                    ...  ...        ...             ...         ...   \n",
              "Woodford               2.0  ...        1.0             NaN         1.0   \n",
              "Woodgrange Park        NaN  ...        NaN             NaN         NaN   \n",
              "Woodside Park          2.0  ...        1.0             NaN         1.0   \n",
              "Woolwich Arsenal       NaN  ...        NaN             NaN         NaN   \n",
              "All                  498.0  ...      253.0           186.0       306.0   \n",
              "\n",
              "station_destination  Wood Lane  Wood Street  Woodford  Woodgrange Park  \\\n",
              "station_origin                                                           \n",
              "Abbey Road                 NaN          NaN       NaN              NaN   \n",
              "Acton Central              NaN          NaN       NaN              1.0   \n",
              "Acton Town                 3.0          NaN       0.0              NaN   \n",
              "Aldgate                    1.0          NaN       1.0              NaN   \n",
              "Aldgate East               1.0          NaN       1.0              NaN   \n",
              "...                        ...          ...       ...              ...   \n",
              "Woodford                   NaN          NaN       NaN              NaN   \n",
              "Woodgrange Park            NaN          NaN       NaN              NaN   \n",
              "Woodside Park              NaN          NaN       NaN              NaN   \n",
              "Woolwich Arsenal           NaN          NaN       NaN              NaN   \n",
              "All                      280.0         54.0     210.0             47.0   \n",
              "\n",
              "station_destination  Woodside Park  Woolwich Arsenal       All  \n",
              "station_origin                                                  \n",
              "Abbey Road                     NaN               1.0      47.0  \n",
              "Acton Central                  NaN               NaN      97.0  \n",
              "Acton Town                     1.0               NaN     409.0  \n",
              "Aldgate                        1.0               NaN     226.0  \n",
              "Aldgate East                   1.0               NaN     350.0  \n",
              "...                            ...               ...       ...  \n",
              "Woodford                       NaN               NaN     387.0  \n",
              "Woodgrange Park                NaN               NaN      42.0  \n",
              "Woodside Park                  NaN               NaN     318.0  \n",
              "Woolwich Arsenal               NaN               NaN     150.0  \n",
              "All                          185.0              60.0  100122.0  \n",
              "\n",
              "[400 rows x 400 columns]"
            ]
          },
          "execution_count": 107,
          "metadata": {},
          "output_type": "execute_result"
        }
      ],
      "source": [
        "\n",
        "\n",
        "data[\"log_new_flow\"] = round(data[\"log_new_flow\"],0)\n",
        "#now we can convert the pivot table into a matrix\n",
        "data = data.pivot_table(values =\"log_new_flow\", index=\"station_origin\", columns = \"station_destination\",\n",
        "                            aggfunc=np.sum, margins=True)\n",
        "data"
      ]
    },
    {
      "cell_type": "code",
      "execution_count": 108,
      "metadata": {},
      "outputs": [],
      "source": [
        "data0['log_old_flow'] = np.log(data0['flows'] + 1)"
      ]
    },
    {
      "cell_type": "code",
      "execution_count": 162,
      "metadata": {},
      "outputs": [
        {
          "data": {
            "text/plain": [
              "99381.32938607752"
            ]
          },
          "execution_count": 162,
          "metadata": {},
          "output_type": "execute_result"
        }
      ],
      "source": [
        "data0['log_new_flow'].sum()\n"
      ]
    },
    {
      "cell_type": "code",
      "execution_count": 164,
      "metadata": {},
      "outputs": [
        {
          "data": {
            "text/plain": [
              "99978.83557698817"
            ]
          },
          "execution_count": 164,
          "metadata": {},
          "output_type": "execute_result"
        }
      ],
      "source": [
        "np.log(data0['flows']+1).sum()\n"
      ]
    },
    {
      "cell_type": "code",
      "execution_count": 64,
      "metadata": {},
      "outputs": [
        {
          "data": {
            "text/plain": [
              "0        5.0\n",
              "1        1.0\n",
              "2        1.0\n",
              "3        4.0\n",
              "4        2.0\n",
              "        ... \n",
              "61469    3.0\n",
              "61470    4.0\n",
              "61471    3.0\n",
              "61472    4.0\n",
              "61473    3.0\n",
              "Length: 61474, dtype: float64"
            ]
          },
          "execution_count": 64,
          "metadata": {},
          "output_type": "execute_result"
        }
      ],
      "source": [
        "round(new_flows)"
      ]
    },
    {
      "cell_type": "code",
      "execution_count": 74,
      "metadata": {},
      "outputs": [
        {
          "data": {
            "text/plain": [
              "<matplotlib.legend.Legend at 0x126147ef0>"
            ]
          },
          "execution_count": 74,
          "metadata": {},
          "output_type": "execute_result"
        },
        {
          "data": {
            "image/png": "[encoded data removed]",
            "text/plain": [
              "<Figure size 1200x600 with 1 Axes>"
            ]
          },
          "metadata": {},
          "output_type": "display_data"
        }
      ],
      "source": [
        "# 绘制原始流量的频率分布图\n",
        "plt.figure(figsize=(12, 6))\n",
        "plt.hist(data['flows'], bins=30, alpha=0.5, label='Original Flows', color='blue', range=(0, 15))\n",
        "\n",
        "# 绘制调整后的流量的频率分布图\n",
        "plt.hist(data['new_flows'], bins=30, alpha=0.5, label='Adjusted Flows', color='red', range=(0, 15))\n",
        "\n",
        "# 添加图例和标签\n",
        "plt.xlabel('Flow')\n",
        "plt.ylabel('Frequency')\n",
        "plt.title('Frequency Distribution of Flows')\n",
        "plt.legend()"
      ]
    },
    {
      "cell_type": "code",
      "execution_count": 71,
      "metadata": {},
      "outputs": [
        {
          "data": {
            "text/plain": [
              "<matplotlib.legend.Legend at 0x125a3cfb0>"
            ]
          },
          "execution_count": 71,
          "metadata": {},
          "output_type": "execute_result"
        },
        {
          "data": {
            "image/png": "[encoded data removed]",
            "text/plain": [
              "<Figure size 1200x600 with 1 Axes>"
            ]
          },
          "metadata": {},
          "output_type": "display_data"
        }
      ],
      "source": [
        "# 绘制原始流量的频率分布图\n",
        "plt.figure(figsize=(12, 6))\n",
        "plt.hist(data['flows'], bins=30, alpha=0.5, label='Original Flows', color='blue', range=(0, 100))\n",
        "\n",
        "\n",
        "# 添加图例和标签\n",
        "plt.xlabel('Flow')\n",
        "plt.ylabel('Frequency')\n",
        "plt.title('Frequency Distribution of Flows')\n",
        "plt.legend()"
      ]
    },
    {
      "cell_type": "code",
      "execution_count": null,
      "metadata": {},
      "outputs": [],
      "source": []
    },
    {
      "cell_type": "code",
      "execution_count": 55,
      "metadata": {},
      "outputs": [
        {
          "data": {
            "text/plain": [
              "58772"
            ]
          },
          "execution_count": 55,
          "metadata": {},
          "output_type": "execute_result"
        }
      ],
      "source": []
    },
    {
      "cell_type": "code",
      "execution_count": null,
      "metadata": {},
      "outputs": [],
      "source": []
    }
  ],
  "metadata": {
    "colab": {
      "provenance": []
    },
    "kernelspec": {
      "display_name": "Python 3",
      "name": "python3"
    },
    "language_info": {
      "codemirror_mode": {
        "name": "ipython",
        "version": 3
      },
      "file_extension": ".py",
      "mimetype": "text/x-python",
      "name": "python",
      "nbconvert_exporter": "python",
      "pygments_lexer": "ipython3",
      "version": "3.12.0"
    }
  },
  "nbformat": 4,
  "nbformat_minor": 0
}
