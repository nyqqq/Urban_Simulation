{
 "cells": [
  {
   "cell_type": "markdown",
   "metadata": {
    "id": "Xb4KKzvNlTpj"
   },
   "source": [
    "# Preparation"
   ]
  },
  {
   "cell_type": "code",
   "execution_count": 41,
   "metadata": {
    "id": "uLNO2yMNTS34"
   },
   "outputs": [],
   "source": [
    "# import all the necessary libraries\n",
    "import os\n",
    "import pandas as pd\n",
    "import numpy as np\n",
    "from scipy.optimize import minimize\n",
    "from scipy.special import expit\n",
    "import matplotlib.pyplot as plt\n",
    "import geopandas as gpd\n",
    "import seaborn as sns\n",
    "import folium\n",
    "import statsmodels.api as sm\n",
    "import scipy.stats\n",
    "from math import sqrt\n",
    "import statsmodels.formula.api as smf\n",
    "from scipy.stats import norm\n",
    "#read the London population flow file"
   ]
  },
  {
   "cell_type": "code",
   "execution_count": 42,
   "metadata": {
    "colab": {
     "base_uri": "https://localhost:8080/"
    },
    "id": "HaUHqGVcSlx2",
    "outputId": "d42b82c4-0797-4a51-b2cd-3f95f8efdf76"
   },
   "outputs": [
    {
     "name": "stdout",
     "output_type": "stream",
     "text": [
      "  station_origin station_destination  flows  population   jobs     distance\n",
      "0     Abbey Road   Bank and Monument      0         599  78549  8131.525097\n",
      "1     Abbey Road             Beckton      1         599    442  8510.121774\n",
      "2     Abbey Road           Blackwall      3         599    665  3775.448872\n",
      "3     Abbey Road        Canary Wharf      1         599  58772  5086.514220\n",
      "4     Abbey Road        Canning Town     37         599  15428  2228.923167\n"
     ]
    }
   ],
   "source": [
    "# 导入所需的库\n",
    "import pandas as pd\n",
    "\n",
    "\n",
    "# 读取CSV文件\n",
    "file_path = 'london_flows.csv'\n",
    "data = pd.read_csv(file_path)\n",
    "\n",
    "# 显示数据前几行\n",
    "print(data.head())"
   ]
  },
  {
   "cell_type": "code",
   "execution_count": 43,
   "metadata": {
    "colab": {
     "base_uri": "https://localhost:8080/"
    },
    "id": "rINui8SVS85s",
    "outputId": "fd734090-0a8d-4899-fa64-28a99869160c"
   },
   "outputs": [
    {
     "data": {
      "text/plain": [
       "station_origin         0\n",
       "station_destination    0\n",
       "flows                  0\n",
       "population             0\n",
       "jobs                   0\n",
       "distance               0\n",
       "log_distance           0\n",
       "log_jobs               0\n",
       "log_flows              0\n",
       "inv_distance           0\n",
       "dtype: int64"
      ]
     },
     "execution_count": 43,
     "metadata": {},
     "output_type": "execute_result"
    }
   ],
   "source": [
    "# 添加对数距离列，确保距离中没有零或负值\n",
    "data['log_distance'] = np.log(data['distance'] + 1)  # +1 以避免对零取对数\n",
    "data['log_jobs'] = np.log(data['jobs'] + 1)\n",
    "data['log_flows'] = np.log(data['flows'] + 1)\n",
    "# 给距离加上一个小的常数以避免除以零\n",
    "data['inv_distance'] = np.power(data['distance'] + 0.001, -1)\n",
    "# 检查是否有缺失值\n",
    "data.isnull().sum()"
   ]
  },
  {
   "cell_type": "code",
   "execution_count": 44,
   "metadata": {},
   "outputs": [
    {
     "data": {
      "text/plain": [
       "<matplotlib.legend.Legend at 0x12bf690d0>"
      ]
     },
     "execution_count": 44,
     "metadata": {},
     "output_type": "execute_result"
    },
    {
     "data": {
      "image/png": "[encoded data removed]",
      "text/plain": [
       "<Figure size 1200x600 with 1 Axes>"
      ]
     },
     "metadata": {},
     "output_type": "display_data"
    }
   ],
   "source": [
    "# 绘制原始流量的频率分布图\n",
    "plt.figure(figsize=(12, 6))\n",
    "plt.hist(data['flows'], bins=30, alpha=0.5, label='Flows', color='blue', range=(0, 100))\n",
    "\n",
    "\n",
    "# 添加图例和标签\n",
    "plt.xlabel('Flow')\n",
    "plt.ylabel('Frequency')\n",
    "plt.title('Frequency Distribution of Flows')\n",
    "plt.legend()"
   ]
  },
  {
   "cell_type": "code",
   "execution_count": 45,
   "metadata": {
    "id": "nSNX6SnfT-og"
   },
   "outputs": [],
   "source": [
    "#set up the metric calculations\n",
    "def CalcRSqaured(observed, estimated):\n",
    "    \"\"\"Calculate the r^2 from a series of observed and estimated target values\n",
    "    inputs:\n",
    "    Observed: Series of actual observed values\n",
    "    estimated: Series of predicted values\"\"\"\n",
    "    \n",
    "    r, p = scipy.stats.pearsonr(observed, estimated)\n",
    "    R2 = r **2\n",
    "    \n",
    "    return R2\n",
    "\n",
    "def CalcRMSE(observed, estimated):\n",
    "    \"\"\"Calculate Root Mean Square Error between a series of observed and estimated values\n",
    "    inputs:\n",
    "    Observed: Series of actual observed values\n",
    "    estimated: Series of predicted values\"\"\"\n",
    "    \n",
    "    res = (observed -estimated)**2\n",
    "    RMSE = round(sqrt(res.mean()), 3)\n",
    "    \n",
    "    return RMSE"
   ]
  },
  {
   "cell_type": "markdown",
   "metadata": {
    "id": "85CnJ84plDyM"
   },
   "source": [
    "# flows - origin"
   ]
  },
  {
   "cell_type": "code",
   "execution_count": 46,
   "metadata": {
    "colab": {
     "base_uri": "https://localhost:8080/"
    },
    "id": "pWusOET1aoTV",
    "outputId": "f9366876-95ba-49bb-a5dc-6ac6d35ce050"
   },
   "outputs": [
    {
     "name": "stdout",
     "output_type": "stream",
     "text": [
      "R-squared:  0.4061698633533295\n",
      "RMSE:  101.718\n"
     ]
    }
   ],
   "source": [
    "formula = 'flows ~ station_origin + jobs + distance-1'\n",
    "\n",
    "initial_constrained_model_poisson = smf.glm(formula=formula, data=data, family=sm.families.Poisson()).fit()\n",
    "\n",
    "print(\"R-squared: \", CalcRSqaured(data[\"flows\"], initial_constrained_model_poisson.mu))\n",
    "print(\"RMSE: \", CalcRMSE(data[\"flows\"], initial_constrained_model_poisson.mu))"
   ]
  },
  {
   "cell_type": "code",
   "execution_count": 33,
   "metadata": {
    "colab": {
     "base_uri": "https://localhost:8080/"
    },
    "id": "Kw2qIxAOe1Sk",
    "outputId": "c01a7fec-5cec-41be-bd34-e3d40096b9a7"
   },
   "outputs": [
    {
     "name": "stdout",
     "output_type": "stream",
     "text": [
      "R-squared:  0.16152789548500204\n",
      "RMSE:  133.754\n"
     ]
    }
   ],
   "source": [
    "formula = 'flows ~ station_origin + jobs + log_distance-1'\n",
    "\n",
    "initial_constrained_model_poisson_log = smf.glm(formula=formula, data=data, family=sm.families.Poisson()).fit()\n",
    "\n",
    "print(\"R-squared: \", CalcRSqaured(data[\"flows\"], initial_constrained_model_poisson_log.mu))\n",
    "print(\"RMSE: \", CalcRMSE(data[\"flows\"], initial_constrained_model_poisson_log.mu))"
   ]
  },
  {
   "cell_type": "code",
   "execution_count": 34,
   "metadata": {
    "colab": {
     "base_uri": "https://localhost:8080/"
    },
    "id": "gWwGDSr4cmqa",
    "outputId": "a4342ec1-ef3c-468c-a2a1-9e71c7d904c4"
   },
   "outputs": [
    {
     "name": "stderr",
     "output_type": "stream",
     "text": [
      "/Library/Frameworks/Python.framework/Versions/3.12/lib/python3.12/site-packages/statsmodels/genmod/families/family.py:1367: ValueWarning: Negative binomial dispersion parameter alpha not set. Using default value alpha=1.0.\n",
      "  warnings.warn(\"Negative binomial dispersion parameter alpha not \"\n"
     ]
    },
    {
     "name": "stdout",
     "output_type": "stream",
     "text": [
      "R-squared:  0.16000668029093978\n",
      "RMSE:  594.361\n"
     ]
    }
   ],
   "source": [
    "formula = 'flows ~ station_origin + jobs + distance-1'\n",
    "\n",
    "initial_constrained_model_negativebinomial = smf.glm(formula=formula, data=data, family=sm.families.NegativeBinomial()).fit()\n",
    "\n",
    "print(\"R-squared: \", CalcRSqaured(data[\"flows\"], initial_constrained_model_negativebinomial.mu))\n",
    "print(\"RMSE: \", CalcRMSE(data[\"flows\"], initial_constrained_model_negativebinomial.mu))"
   ]
  },
  {
   "cell_type": "code",
   "execution_count": 35,
   "metadata": {
    "colab": {
     "base_uri": "https://localhost:8080/"
    },
    "id": "-maBMc0dd_N4",
    "outputId": "702677d1-add6-4f8f-c8a3-d6eb71ceb147"
   },
   "outputs": [
    {
     "name": "stderr",
     "output_type": "stream",
     "text": [
      "/Library/Frameworks/Python.framework/Versions/3.12/lib/python3.12/site-packages/statsmodels/genmod/families/family.py:1367: ValueWarning: Negative binomial dispersion parameter alpha not set. Using default value alpha=1.0.\n",
      "  warnings.warn(\"Negative binomial dispersion parameter alpha not \"\n"
     ]
    },
    {
     "name": "stdout",
     "output_type": "stream",
     "text": [
      "R-squared:  1.2236149310478477e-06\n",
      "RMSE:  51317485.603\n"
     ]
    }
   ],
   "source": [
    "formula = 'flows ~ station_origin + jobs + log_distance-1'\n",
    "\n",
    "initial_constrained_model_negativebinomial_log = smf.glm(formula=formula, data=data, family=sm.families.NegativeBinomial()).fit()\n",
    "\n",
    "print(\"R-squared: \", CalcRSqaured(data[\"flows\"], initial_constrained_model_negativebinomial_log.mu))\n",
    "print(\"RMSE: \", CalcRMSE(data[\"flows\"], initial_constrained_model_negativebinomial_log.mu))"
   ]
  },
  {
   "cell_type": "markdown",
   "metadata": {
    "id": "bQk_QTzmhhOV"
   },
   "source": [
    "选择R-squared最大的formula = 'flows ~ station_origin + jobs + distance-1'"
   ]
  },
  {
   "cell_type": "code",
   "execution_count": 36,
   "metadata": {
    "id": "L-shNVo8wYky"
   },
   "outputs": [
    {
     "name": "stderr",
     "output_type": "stream",
     "text": [
      "/Library/Frameworks/Python.framework/Versions/3.12/lib/python3.12/site-packages/statsmodels/base/model.py:607: ConvergenceWarning: Maximum Likelihood optimization failed to converge. Check mle_retvals\n",
      "  warnings.warn(\"Maximum Likelihood optimization failed to \"\n"
     ]
    },
    {
     "name": "stdout",
     "output_type": "stream",
     "text": [
      "R-squared:  0.4061698633560388\n",
      "RMSE:  101.718\n"
     ]
    }
   ],
   "source": [
    "formula = 'flows ~ station_origin + jobs + distance-1'\n",
    "\n",
    "initial_constrained_model_poisson_optimized = smf.glm(formula=formula, data=data, family=sm.families.Poisson()).fit(method='newton', maxiter=100, tol=1e-6)\n",
    "\n",
    "print(\"R-squared: \", CalcRSqaured(data[\"flows\"], initial_constrained_model_poisson_optimized.mu))\n",
    "print(\"RMSE: \", CalcRMSE(data[\"flows\"], initial_constrained_model_poisson_optimized.mu))"
   ]
  },
  {
   "cell_type": "code",
   "execution_count": 37,
   "metadata": {
    "colab": {
     "base_uri": "https://localhost:8080/"
    },
    "id": "3kXumo1Bd_Un",
    "outputId": "75ce08c3-a947-485d-8f2e-87adca41e064"
   },
   "outputs": [
    {
     "name": "stderr",
     "output_type": "stream",
     "text": [
      "/Library/Frameworks/Python.framework/Versions/3.12/lib/python3.12/site-packages/statsmodels/base/model.py:607: ConvergenceWarning: Maximum Likelihood optimization failed to converge. Check mle_retvals\n",
      "  warnings.warn(\"Maximum Likelihood optimization failed to \"\n"
     ]
    },
    {
     "name": "stdout",
     "output_type": "stream",
     "text": [
      "R-squared:  0.4061698633560388\n",
      "RMSE:  101.718\n"
     ]
    }
   ],
   "source": [
    "# 加入交互项的负二项回归模型\n",
    "formula = 'flows ~ station_origin + jobs + distance-1'\n",
    "\n",
    "initial_constrained_model_poisson_interaction = smf.glm(formula=formula, data=data, family=sm.families.Poisson()).fit(method='newton', maxiter=100, tol=1e-6)\n",
    "\n",
    "print(\"R-squared: \", CalcRSqaured(data[\"flows\"], initial_constrained_model_poisson_interaction.mu))\n",
    "print(\"RMSE: \", CalcRMSE(data[\"flows\"], initial_constrained_model_poisson_interaction.mu))"
   ]
  },
  {
   "cell_type": "code",
   "execution_count": 1,
   "metadata": {},
   "outputs": [],
   "source": [
    "# select formula = 'flows ~ station_origin + jobs + distance-1'\n",
    "# R-squared:  0.4061698633533295\n",
    "# RMSE:  101.718"
   ]
  },
  {
   "cell_type": "code",
   "execution_count": 47,
   "metadata": {},
   "outputs": [
    {
     "name": "stderr",
     "output_type": "stream",
     "text": [
      "/var/folders/rv/j_vzprd56j5fpq5_0hvsy8v80000gn/T/ipykernel_15103/3185961820.py:2: FutureWarning: Series.__getitem__ treating keys as positions is deprecated. In a future version, integer keys will always be treated as labels (consistent with DataFrame behavior). To access a value by position, use `ser.iloc[pos]`\n",
      "  gamma = initial_constrained_model_poisson.params[-2]\n",
      "/var/folders/rv/j_vzprd56j5fpq5_0hvsy8v80000gn/T/ipykernel_15103/3185961820.py:3: FutureWarning: Series.__getitem__ treating keys as positions is deprecated. In a future version, integer keys will always be treated as labels (consistent with DataFrame behavior). To access a value by position, use `ser.iloc[pos]`\n",
      "  beta = -initial_constrained_model_poisson.params[-1]\n"
     ]
    }
   ],
   "source": [
    "alpha_i = initial_constrained_model_poisson.params[0:-2]\n",
    "gamma = initial_constrained_model_poisson.params[-2]\n",
    "beta = -initial_constrained_model_poisson.params[-1]"
   ]
  },
  {
   "cell_type": "code",
   "execution_count": 48,
   "metadata": {
    "id": "s-aLfy8V72js"
   },
   "outputs": [],
   "source": [
    "data0 = data"
   ]
  },
  {
   "cell_type": "code",
   "execution_count": 49,
   "metadata": {},
   "outputs": [],
   "source": [
    "data0.loc[data0['station_destination'] == 'Canary Wharf', 'jobs'] *= 0.5"
   ]
  },
  {
   "cell_type": "code",
   "execution_count": 50,
   "metadata": {},
   "outputs": [
    {
     "name": "stderr",
     "output_type": "stream",
     "text": [
      "<>:5: SyntaxWarning: invalid escape sequence '\\['\n",
      "<>:5: SyntaxWarning: invalid escape sequence '\\]'\n",
      "<>:5: SyntaxWarning: invalid escape sequence '\\['\n",
      "<>:5: SyntaxWarning: invalid escape sequence '\\]'\n",
      "/var/folders/rv/j_vzprd56j5fpq5_0hvsy8v80000gn/T/ipykernel_15103/4098775869.py:5: SyntaxWarning: invalid escape sequence '\\['\n",
      "  to_repl = [\"(station_origin)\", \"\\[\", \"\\]\"]\n",
      "/var/folders/rv/j_vzprd56j5fpq5_0hvsy8v80000gn/T/ipykernel_15103/4098775869.py:5: SyntaxWarning: invalid escape sequence '\\]'\n",
      "  to_repl = [\"(station_origin)\", \"\\[\", \"\\]\"]\n"
     ]
    },
    {
     "data": {
      "text/html": [
       "<div>\n",
       "<style scoped>\n",
       "    .dataframe tbody tr th:only-of-type {\n",
       "        vertical-align: middle;\n",
       "    }\n",
       "\n",
       "    .dataframe tbody tr th {\n",
       "        vertical-align: top;\n",
       "    }\n",
       "\n",
       "    .dataframe thead th {\n",
       "        text-align: right;\n",
       "    }\n",
       "</style>\n",
       "<table border=\"1\" class=\"dataframe\">\n",
       "  <thead>\n",
       "    <tr style=\"text-align: right;\">\n",
       "      <th></th>\n",
       "      <th>station_origin</th>\n",
       "      <th>station_destination</th>\n",
       "      <th>flows</th>\n",
       "      <th>population</th>\n",
       "      <th>jobs</th>\n",
       "      <th>distance</th>\n",
       "      <th>log_distance</th>\n",
       "      <th>log_jobs</th>\n",
       "      <th>log_flows</th>\n",
       "      <th>inv_distance</th>\n",
       "      <th>alpha_i</th>\n",
       "    </tr>\n",
       "  </thead>\n",
       "  <tbody>\n",
       "    <tr>\n",
       "      <th>0</th>\n",
       "      <td>Abbey Road</td>\n",
       "      <td>Bank and Monument</td>\n",
       "      <td>0</td>\n",
       "      <td>599</td>\n",
       "      <td>78549</td>\n",
       "      <td>8131.525097</td>\n",
       "      <td>9.003627</td>\n",
       "      <td>11.271491</td>\n",
       "      <td>0.000000</td>\n",
       "      <td>0.000123</td>\n",
       "      <td>2.75463</td>\n",
       "    </tr>\n",
       "    <tr>\n",
       "      <th>1</th>\n",
       "      <td>Abbey Road</td>\n",
       "      <td>Beckton</td>\n",
       "      <td>1</td>\n",
       "      <td>599</td>\n",
       "      <td>442</td>\n",
       "      <td>8510.121774</td>\n",
       "      <td>9.049129</td>\n",
       "      <td>6.093570</td>\n",
       "      <td>0.693147</td>\n",
       "      <td>0.000118</td>\n",
       "      <td>2.75463</td>\n",
       "    </tr>\n",
       "    <tr>\n",
       "      <th>2</th>\n",
       "      <td>Abbey Road</td>\n",
       "      <td>Blackwall</td>\n",
       "      <td>3</td>\n",
       "      <td>599</td>\n",
       "      <td>665</td>\n",
       "      <td>3775.448872</td>\n",
       "      <td>8.236539</td>\n",
       "      <td>6.501290</td>\n",
       "      <td>1.386294</td>\n",
       "      <td>0.000265</td>\n",
       "      <td>2.75463</td>\n",
       "    </tr>\n",
       "    <tr>\n",
       "      <th>3</th>\n",
       "      <td>Abbey Road</td>\n",
       "      <td>Canary Wharf</td>\n",
       "      <td>1</td>\n",
       "      <td>599</td>\n",
       "      <td>29386</td>\n",
       "      <td>5086.514220</td>\n",
       "      <td>8.534545</td>\n",
       "      <td>10.981438</td>\n",
       "      <td>0.693147</td>\n",
       "      <td>0.000197</td>\n",
       "      <td>2.75463</td>\n",
       "    </tr>\n",
       "    <tr>\n",
       "      <th>4</th>\n",
       "      <td>Abbey Road</td>\n",
       "      <td>Canning Town</td>\n",
       "      <td>37</td>\n",
       "      <td>599</td>\n",
       "      <td>15428</td>\n",
       "      <td>2228.923167</td>\n",
       "      <td>7.709722</td>\n",
       "      <td>9.644004</td>\n",
       "      <td>3.637586</td>\n",
       "      <td>0.000449</td>\n",
       "      <td>2.75463</td>\n",
       "    </tr>\n",
       "  </tbody>\n",
       "</table>\n",
       "</div>"
      ],
      "text/plain": [
       "  station_origin station_destination  flows  population   jobs     distance  \\\n",
       "0     Abbey Road   Bank and Monument      0         599  78549  8131.525097   \n",
       "1     Abbey Road             Beckton      1         599    442  8510.121774   \n",
       "2     Abbey Road           Blackwall      3         599    665  3775.448872   \n",
       "3     Abbey Road        Canary Wharf      1         599  29386  5086.514220   \n",
       "4     Abbey Road        Canning Town     37         599  15428  2228.923167   \n",
       "\n",
       "   log_distance   log_jobs  log_flows  inv_distance  alpha_i  \n",
       "0      9.003627  11.271491   0.000000      0.000123  2.75463  \n",
       "1      9.049129   6.093570   0.693147      0.000118  2.75463  \n",
       "2      8.236539   6.501290   1.386294      0.000265  2.75463  \n",
       "3      8.534545  10.981438   0.693147      0.000197  2.75463  \n",
       "4      7.709722   9.644004   3.637586      0.000449  2.75463  "
      ]
     },
     "execution_count": 50,
     "metadata": {},
     "output_type": "execute_result"
    }
   ],
   "source": [
    "coefs = pd.DataFrame()\n",
    "coefs = pd.DataFrame(initial_constrained_model_poisson.params)\n",
    "coefs.reset_index(inplace=True)\n",
    "coefs.rename(columns = {0:\"alpha_i\", \"index\":\"coef\"}, inplace = True)\n",
    "to_repl = [\"(station_origin)\", \"\\[\", \"\\]\"]\n",
    "for x in to_repl:\n",
    "    coefs[\"coef\"] = coefs[\"coef\"].str.replace(x, \"\",regex=True)\n",
    "data0 = data0.merge(coefs, left_on=\"station_origin\", right_on=\"coef\", how = \"left\")\n",
    "data0.drop(columns = [\"coef\"], inplace = True)\n",
    "#check this has worked\n",
    "data0.head()"
   ]
  },
  {
   "cell_type": "code",
   "execution_count": 51,
   "metadata": {},
   "outputs": [],
   "source": [
    "data0[\"new_flow\"] = np.exp(data0[\"alpha_i\"]+gamma*(data0[\"jobs\"]) - beta*data0[\"distance\"])"
   ]
  },
  {
   "cell_type": "code",
   "execution_count": 52,
   "metadata": {},
   "outputs": [
    {
     "data": {
      "text/plain": [
       "1505584.9546267462"
      ]
     },
     "execution_count": 52,
     "metadata": {},
     "output_type": "execute_result"
    }
   ],
   "source": [
    "data0['new_flow'].sum()"
   ]
  },
  {
   "cell_type": "code",
   "execution_count": 53,
   "metadata": {},
   "outputs": [
    {
     "data": {
      "text/plain": [
       "1542391"
      ]
     },
     "execution_count": 53,
     "metadata": {},
     "output_type": "execute_result"
    }
   ],
   "source": [
    "data0['flows'].sum()"
   ]
  },
  {
   "cell_type": "code",
   "execution_count": 54,
   "metadata": {
    "scrolled": true
   },
   "outputs": [
    {
     "name": "stderr",
     "output_type": "stream",
     "text": [
      "/var/folders/rv/j_vzprd56j5fpq5_0hvsy8v80000gn/T/ipykernel_15103/613574187.py:2: FutureWarning: The provided callable <function sum at 0x113c7ae80> is currently using DataFrameGroupBy.sum. In a future version of pandas, the provided callable will be used directly. To keep current behavior pass the string \"sum\" instead.\n",
      "  pred_matrix = data0.pivot_table(values =\"new_flow\", index=\"station_origin\", columns = \"station_destination\",\n",
      "/var/folders/rv/j_vzprd56j5fpq5_0hvsy8v80000gn/T/ipykernel_15103/613574187.py:2: FutureWarning: The provided callable <function sum at 0x113c7ae80> is currently using DataFrameGroupBy.sum. In a future version of pandas, the provided callable will be used directly. To keep current behavior pass the string \"sum\" instead.\n",
      "  pred_matrix = data0.pivot_table(values =\"new_flow\", index=\"station_origin\", columns = \"station_destination\",\n",
      "/var/folders/rv/j_vzprd56j5fpq5_0hvsy8v80000gn/T/ipykernel_15103/613574187.py:2: FutureWarning: The provided callable <function sum at 0x113c7ae80> is currently using DataFrameGroupBy.sum. In a future version of pandas, the provided callable will be used directly. To keep current behavior pass the string \"sum\" instead.\n",
      "  pred_matrix = data0.pivot_table(values =\"new_flow\", index=\"station_origin\", columns = \"station_destination\",\n"
     ]
    },
    {
     "data": {
      "text/html": [
       "<div>\n",
       "<style scoped>\n",
       "    .dataframe tbody tr th:only-of-type {\n",
       "        vertical-align: middle;\n",
       "    }\n",
       "\n",
       "    .dataframe tbody tr th {\n",
       "        vertical-align: top;\n",
       "    }\n",
       "\n",
       "    .dataframe thead th {\n",
       "        text-align: right;\n",
       "    }\n",
       "</style>\n",
       "<table border=\"1\" class=\"dataframe\">\n",
       "  <thead>\n",
       "    <tr style=\"text-align: right;\">\n",
       "      <th>station_destination</th>\n",
       "      <th>Abbey Road</th>\n",
       "      <th>Acton Central</th>\n",
       "      <th>Acton Town</th>\n",
       "      <th>Aldgate</th>\n",
       "      <th>Aldgate East</th>\n",
       "      <th>All Saints</th>\n",
       "      <th>Alperton</th>\n",
       "      <th>Amersham</th>\n",
       "      <th>Anerley</th>\n",
       "      <th>Angel</th>\n",
       "      <th>...</th>\n",
       "      <th>Wimbledon</th>\n",
       "      <th>Wimbledon Park</th>\n",
       "      <th>Wood Green</th>\n",
       "      <th>Wood Lane</th>\n",
       "      <th>Wood Street</th>\n",
       "      <th>Woodford</th>\n",
       "      <th>Woodgrange Park</th>\n",
       "      <th>Woodside Park</th>\n",
       "      <th>Woolwich Arsenal</th>\n",
       "      <th>All</th>\n",
       "    </tr>\n",
       "    <tr>\n",
       "      <th>station_origin</th>\n",
       "      <th></th>\n",
       "      <th></th>\n",
       "      <th></th>\n",
       "      <th></th>\n",
       "      <th></th>\n",
       "      <th></th>\n",
       "      <th></th>\n",
       "      <th></th>\n",
       "      <th></th>\n",
       "      <th></th>\n",
       "      <th></th>\n",
       "      <th></th>\n",
       "      <th></th>\n",
       "      <th></th>\n",
       "      <th></th>\n",
       "      <th></th>\n",
       "      <th></th>\n",
       "      <th></th>\n",
       "      <th></th>\n",
       "      <th></th>\n",
       "      <th></th>\n",
       "    </tr>\n",
       "  </thead>\n",
       "  <tbody>\n",
       "    <tr>\n",
       "      <th>Abbey Road</th>\n",
       "      <td>NaN</td>\n",
       "      <td>NaN</td>\n",
       "      <td>NaN</td>\n",
       "      <td>NaN</td>\n",
       "      <td>NaN</td>\n",
       "      <td>NaN</td>\n",
       "      <td>NaN</td>\n",
       "      <td>NaN</td>\n",
       "      <td>NaN</td>\n",
       "      <td>NaN</td>\n",
       "      <td>...</td>\n",
       "      <td>NaN</td>\n",
       "      <td>NaN</td>\n",
       "      <td>NaN</td>\n",
       "      <td>NaN</td>\n",
       "      <td>NaN</td>\n",
       "      <td>NaN</td>\n",
       "      <td>NaN</td>\n",
       "      <td>NaN</td>\n",
       "      <td>5.0</td>\n",
       "      <td>538.0</td>\n",
       "    </tr>\n",
       "    <tr>\n",
       "      <th>Acton Central</th>\n",
       "      <td>NaN</td>\n",
       "      <td>NaN</td>\n",
       "      <td>NaN</td>\n",
       "      <td>NaN</td>\n",
       "      <td>NaN</td>\n",
       "      <td>NaN</td>\n",
       "      <td>NaN</td>\n",
       "      <td>NaN</td>\n",
       "      <td>NaN</td>\n",
       "      <td>NaN</td>\n",
       "      <td>...</td>\n",
       "      <td>NaN</td>\n",
       "      <td>NaN</td>\n",
       "      <td>NaN</td>\n",
       "      <td>NaN</td>\n",
       "      <td>NaN</td>\n",
       "      <td>NaN</td>\n",
       "      <td>2.0</td>\n",
       "      <td>NaN</td>\n",
       "      <td>NaN</td>\n",
       "      <td>1224.0</td>\n",
       "    </tr>\n",
       "    <tr>\n",
       "      <th>Acton Town</th>\n",
       "      <td>NaN</td>\n",
       "      <td>NaN</td>\n",
       "      <td>NaN</td>\n",
       "      <td>9.0</td>\n",
       "      <td>8.0</td>\n",
       "      <td>NaN</td>\n",
       "      <td>36.0</td>\n",
       "      <td>0.0</td>\n",
       "      <td>NaN</td>\n",
       "      <td>10.0</td>\n",
       "      <td>...</td>\n",
       "      <td>10.0</td>\n",
       "      <td>10.0</td>\n",
       "      <td>3.0</td>\n",
       "      <td>30.0</td>\n",
       "      <td>NaN</td>\n",
       "      <td>1.0</td>\n",
       "      <td>NaN</td>\n",
       "      <td>2.0</td>\n",
       "      <td>NaN</td>\n",
       "      <td>3715.0</td>\n",
       "    </tr>\n",
       "    <tr>\n",
       "      <th>Aldgate</th>\n",
       "      <td>NaN</td>\n",
       "      <td>NaN</td>\n",
       "      <td>2.0</td>\n",
       "      <td>NaN</td>\n",
       "      <td>26.0</td>\n",
       "      <td>NaN</td>\n",
       "      <td>NaN</td>\n",
       "      <td>0.0</td>\n",
       "      <td>NaN</td>\n",
       "      <td>19.0</td>\n",
       "      <td>...</td>\n",
       "      <td>2.0</td>\n",
       "      <td>NaN</td>\n",
       "      <td>4.0</td>\n",
       "      <td>4.0</td>\n",
       "      <td>NaN</td>\n",
       "      <td>2.0</td>\n",
       "      <td>NaN</td>\n",
       "      <td>2.0</td>\n",
       "      <td>NaN</td>\n",
       "      <td>2814.0</td>\n",
       "    </tr>\n",
       "    <tr>\n",
       "      <th>Aldgate East</th>\n",
       "      <td>NaN</td>\n",
       "      <td>NaN</td>\n",
       "      <td>2.0</td>\n",
       "      <td>28.0</td>\n",
       "      <td>NaN</td>\n",
       "      <td>NaN</td>\n",
       "      <td>1.0</td>\n",
       "      <td>0.0</td>\n",
       "      <td>NaN</td>\n",
       "      <td>20.0</td>\n",
       "      <td>...</td>\n",
       "      <td>2.0</td>\n",
       "      <td>2.0</td>\n",
       "      <td>4.0</td>\n",
       "      <td>4.0</td>\n",
       "      <td>NaN</td>\n",
       "      <td>3.0</td>\n",
       "      <td>NaN</td>\n",
       "      <td>2.0</td>\n",
       "      <td>NaN</td>\n",
       "      <td>3077.0</td>\n",
       "    </tr>\n",
       "    <tr>\n",
       "      <th>...</th>\n",
       "      <td>...</td>\n",
       "      <td>...</td>\n",
       "      <td>...</td>\n",
       "      <td>...</td>\n",
       "      <td>...</td>\n",
       "      <td>...</td>\n",
       "      <td>...</td>\n",
       "      <td>...</td>\n",
       "      <td>...</td>\n",
       "      <td>...</td>\n",
       "      <td>...</td>\n",
       "      <td>...</td>\n",
       "      <td>...</td>\n",
       "      <td>...</td>\n",
       "      <td>...</td>\n",
       "      <td>...</td>\n",
       "      <td>...</td>\n",
       "      <td>...</td>\n",
       "      <td>...</td>\n",
       "      <td>...</td>\n",
       "      <td>...</td>\n",
       "    </tr>\n",
       "    <tr>\n",
       "      <th>Woodford</th>\n",
       "      <td>NaN</td>\n",
       "      <td>NaN</td>\n",
       "      <td>2.0</td>\n",
       "      <td>23.0</td>\n",
       "      <td>28.0</td>\n",
       "      <td>NaN</td>\n",
       "      <td>NaN</td>\n",
       "      <td>NaN</td>\n",
       "      <td>NaN</td>\n",
       "      <td>17.0</td>\n",
       "      <td>...</td>\n",
       "      <td>2.0</td>\n",
       "      <td>NaN</td>\n",
       "      <td>7.0</td>\n",
       "      <td>NaN</td>\n",
       "      <td>NaN</td>\n",
       "      <td>NaN</td>\n",
       "      <td>NaN</td>\n",
       "      <td>NaN</td>\n",
       "      <td>NaN</td>\n",
       "      <td>4696.0</td>\n",
       "    </tr>\n",
       "    <tr>\n",
       "      <th>Woodgrange Park</th>\n",
       "      <td>NaN</td>\n",
       "      <td>2.0</td>\n",
       "      <td>NaN</td>\n",
       "      <td>NaN</td>\n",
       "      <td>NaN</td>\n",
       "      <td>NaN</td>\n",
       "      <td>NaN</td>\n",
       "      <td>NaN</td>\n",
       "      <td>NaN</td>\n",
       "      <td>NaN</td>\n",
       "      <td>...</td>\n",
       "      <td>NaN</td>\n",
       "      <td>NaN</td>\n",
       "      <td>NaN</td>\n",
       "      <td>NaN</td>\n",
       "      <td>NaN</td>\n",
       "      <td>NaN</td>\n",
       "      <td>NaN</td>\n",
       "      <td>NaN</td>\n",
       "      <td>NaN</td>\n",
       "      <td>530.0</td>\n",
       "    </tr>\n",
       "    <tr>\n",
       "      <th>Woodside Park</th>\n",
       "      <td>NaN</td>\n",
       "      <td>NaN</td>\n",
       "      <td>3.0</td>\n",
       "      <td>13.0</td>\n",
       "      <td>13.0</td>\n",
       "      <td>NaN</td>\n",
       "      <td>1.0</td>\n",
       "      <td>NaN</td>\n",
       "      <td>NaN</td>\n",
       "      <td>21.0</td>\n",
       "      <td>...</td>\n",
       "      <td>3.0</td>\n",
       "      <td>NaN</td>\n",
       "      <td>6.0</td>\n",
       "      <td>NaN</td>\n",
       "      <td>NaN</td>\n",
       "      <td>NaN</td>\n",
       "      <td>NaN</td>\n",
       "      <td>NaN</td>\n",
       "      <td>NaN</td>\n",
       "      <td>3055.0</td>\n",
       "    </tr>\n",
       "    <tr>\n",
       "      <th>Woolwich Arsenal</th>\n",
       "      <td>112.0</td>\n",
       "      <td>NaN</td>\n",
       "      <td>NaN</td>\n",
       "      <td>NaN</td>\n",
       "      <td>NaN</td>\n",
       "      <td>100.0</td>\n",
       "      <td>NaN</td>\n",
       "      <td>NaN</td>\n",
       "      <td>NaN</td>\n",
       "      <td>NaN</td>\n",
       "      <td>...</td>\n",
       "      <td>NaN</td>\n",
       "      <td>NaN</td>\n",
       "      <td>NaN</td>\n",
       "      <td>NaN</td>\n",
       "      <td>NaN</td>\n",
       "      <td>NaN</td>\n",
       "      <td>NaN</td>\n",
       "      <td>NaN</td>\n",
       "      <td>NaN</td>\n",
       "      <td>7078.0</td>\n",
       "    </tr>\n",
       "    <tr>\n",
       "      <th>All</th>\n",
       "      <td>1509.0</td>\n",
       "      <td>873.0</td>\n",
       "      <td>2820.0</td>\n",
       "      <td>5859.0</td>\n",
       "      <td>6370.0</td>\n",
       "      <td>1663.0</td>\n",
       "      <td>1570.0</td>\n",
       "      <td>497.0</td>\n",
       "      <td>937.0</td>\n",
       "      <td>6652.0</td>\n",
       "      <td>...</td>\n",
       "      <td>1602.0</td>\n",
       "      <td>1489.0</td>\n",
       "      <td>2591.0</td>\n",
       "      <td>2827.0</td>\n",
       "      <td>1248.0</td>\n",
       "      <td>1765.0</td>\n",
       "      <td>641.0</td>\n",
       "      <td>1318.0</td>\n",
       "      <td>751.0</td>\n",
       "      <td>1505585.0</td>\n",
       "    </tr>\n",
       "  </tbody>\n",
       "</table>\n",
       "<p>400 rows × 400 columns</p>\n",
       "</div>"
      ],
      "text/plain": [
       "station_destination  Abbey Road  Acton Central  Acton Town  Aldgate  \\\n",
       "station_origin                                                        \n",
       "Abbey Road                  NaN            NaN         NaN      NaN   \n",
       "Acton Central               NaN            NaN         NaN      NaN   \n",
       "Acton Town                  NaN            NaN         NaN      9.0   \n",
       "Aldgate                     NaN            NaN         2.0      NaN   \n",
       "Aldgate East                NaN            NaN         2.0     28.0   \n",
       "...                         ...            ...         ...      ...   \n",
       "Woodford                    NaN            NaN         2.0     23.0   \n",
       "Woodgrange Park             NaN            2.0         NaN      NaN   \n",
       "Woodside Park               NaN            NaN         3.0     13.0   \n",
       "Woolwich Arsenal          112.0            NaN         NaN      NaN   \n",
       "All                      1509.0          873.0      2820.0   5859.0   \n",
       "\n",
       "station_destination  Aldgate East  All Saints  Alperton  Amersham  Anerley  \\\n",
       "station_origin                                                               \n",
       "Abbey Road                    NaN         NaN       NaN       NaN      NaN   \n",
       "Acton Central                 NaN         NaN       NaN       NaN      NaN   \n",
       "Acton Town                    8.0         NaN      36.0       0.0      NaN   \n",
       "Aldgate                      26.0         NaN       NaN       0.0      NaN   \n",
       "Aldgate East                  NaN         NaN       1.0       0.0      NaN   \n",
       "...                           ...         ...       ...       ...      ...   \n",
       "Woodford                     28.0         NaN       NaN       NaN      NaN   \n",
       "Woodgrange Park               NaN         NaN       NaN       NaN      NaN   \n",
       "Woodside Park                13.0         NaN       1.0       NaN      NaN   \n",
       "Woolwich Arsenal              NaN       100.0       NaN       NaN      NaN   \n",
       "All                        6370.0      1663.0    1570.0     497.0    937.0   \n",
       "\n",
       "station_destination   Angel  ...  Wimbledon  Wimbledon Park  Wood Green  \\\n",
       "station_origin               ...                                          \n",
       "Abbey Road              NaN  ...        NaN             NaN         NaN   \n",
       "Acton Central           NaN  ...        NaN             NaN         NaN   \n",
       "Acton Town             10.0  ...       10.0            10.0         3.0   \n",
       "Aldgate                19.0  ...        2.0             NaN         4.0   \n",
       "Aldgate East           20.0  ...        2.0             2.0         4.0   \n",
       "...                     ...  ...        ...             ...         ...   \n",
       "Woodford               17.0  ...        2.0             NaN         7.0   \n",
       "Woodgrange Park         NaN  ...        NaN             NaN         NaN   \n",
       "Woodside Park          21.0  ...        3.0             NaN         6.0   \n",
       "Woolwich Arsenal        NaN  ...        NaN             NaN         NaN   \n",
       "All                  6652.0  ...     1602.0          1489.0      2591.0   \n",
       "\n",
       "station_destination  Wood Lane  Wood Street  Woodford  Woodgrange Park  \\\n",
       "station_origin                                                           \n",
       "Abbey Road                 NaN          NaN       NaN              NaN   \n",
       "Acton Central              NaN          NaN       NaN              2.0   \n",
       "Acton Town                30.0          NaN       1.0              NaN   \n",
       "Aldgate                    4.0          NaN       2.0              NaN   \n",
       "Aldgate East               4.0          NaN       3.0              NaN   \n",
       "...                        ...          ...       ...              ...   \n",
       "Woodford                   NaN          NaN       NaN              NaN   \n",
       "Woodgrange Park            NaN          NaN       NaN              NaN   \n",
       "Woodside Park              NaN          NaN       NaN              NaN   \n",
       "Woolwich Arsenal           NaN          NaN       NaN              NaN   \n",
       "All                     2827.0       1248.0    1765.0            641.0   \n",
       "\n",
       "station_destination  Woodside Park  Woolwich Arsenal        All  \n",
       "station_origin                                                   \n",
       "Abbey Road                     NaN               5.0      538.0  \n",
       "Acton Central                  NaN               NaN     1224.0  \n",
       "Acton Town                     2.0               NaN     3715.0  \n",
       "Aldgate                        2.0               NaN     2814.0  \n",
       "Aldgate East                   2.0               NaN     3077.0  \n",
       "...                            ...               ...        ...  \n",
       "Woodford                       NaN               NaN     4696.0  \n",
       "Woodgrange Park                NaN               NaN      530.0  \n",
       "Woodside Park                  NaN               NaN     3055.0  \n",
       "Woolwich Arsenal               NaN               NaN     7078.0  \n",
       "All                         1318.0             751.0  1505585.0  \n",
       "\n",
       "[400 rows x 400 columns]"
      ]
     },
     "execution_count": 54,
     "metadata": {},
     "output_type": "execute_result"
    }
   ],
   "source": [
    "#now we can convert the pivot table into a matrix\n",
    "pred_matrix = data0.pivot_table(values =\"new_flow\", index=\"station_origin\", columns = \"station_destination\",\n",
    "                            aggfunc=np.sum, margins=True)\n",
    "pred_matrix = pred_matrix.round(0)\n",
    "pred_matrix"
   ]
  },
  {
   "cell_type": "code",
   "execution_count": 55,
   "metadata": {},
   "outputs": [
    {
     "name": "stderr",
     "output_type": "stream",
     "text": [
      "/var/folders/rv/j_vzprd56j5fpq5_0hvsy8v80000gn/T/ipykernel_15103/249232790.py:2: FutureWarning: The provided callable <function sum at 0x113c7ae80> is currently using DataFrameGroupBy.sum. In a future version of pandas, the provided callable will be used directly. To keep current behavior pass the string \"sum\" instead.\n",
      "  truth_matrix = data0.pivot_table(values =\"flows\", index=\"station_origin\", columns = \"station_destination\",\n",
      "/var/folders/rv/j_vzprd56j5fpq5_0hvsy8v80000gn/T/ipykernel_15103/249232790.py:2: FutureWarning: The provided callable <function sum at 0x113c7ae80> is currently using DataFrameGroupBy.sum. In a future version of pandas, the provided callable will be used directly. To keep current behavior pass the string \"sum\" instead.\n",
      "  truth_matrix = data0.pivot_table(values =\"flows\", index=\"station_origin\", columns = \"station_destination\",\n",
      "/var/folders/rv/j_vzprd56j5fpq5_0hvsy8v80000gn/T/ipykernel_15103/249232790.py:2: FutureWarning: The provided callable <function sum at 0x113c7ae80> is currently using DataFrameGroupBy.sum. In a future version of pandas, the provided callable will be used directly. To keep current behavior pass the string \"sum\" instead.\n",
      "  truth_matrix = data0.pivot_table(values =\"flows\", index=\"station_origin\", columns = \"station_destination\",\n"
     ]
    },
    {
     "data": {
      "text/html": [
       "<div>\n",
       "<style scoped>\n",
       "    .dataframe tbody tr th:only-of-type {\n",
       "        vertical-align: middle;\n",
       "    }\n",
       "\n",
       "    .dataframe tbody tr th {\n",
       "        vertical-align: top;\n",
       "    }\n",
       "\n",
       "    .dataframe thead th {\n",
       "        text-align: right;\n",
       "    }\n",
       "</style>\n",
       "<table border=\"1\" class=\"dataframe\">\n",
       "  <thead>\n",
       "    <tr style=\"text-align: right;\">\n",
       "      <th>station_destination</th>\n",
       "      <th>Abbey Road</th>\n",
       "      <th>Acton Central</th>\n",
       "      <th>Acton Town</th>\n",
       "      <th>Aldgate</th>\n",
       "      <th>Aldgate East</th>\n",
       "      <th>All Saints</th>\n",
       "      <th>Alperton</th>\n",
       "      <th>Amersham</th>\n",
       "      <th>Anerley</th>\n",
       "      <th>Angel</th>\n",
       "      <th>...</th>\n",
       "      <th>Wimbledon</th>\n",
       "      <th>Wimbledon Park</th>\n",
       "      <th>Wood Green</th>\n",
       "      <th>Wood Lane</th>\n",
       "      <th>Wood Street</th>\n",
       "      <th>Woodford</th>\n",
       "      <th>Woodgrange Park</th>\n",
       "      <th>Woodside Park</th>\n",
       "      <th>Woolwich Arsenal</th>\n",
       "      <th>All</th>\n",
       "    </tr>\n",
       "    <tr>\n",
       "      <th>station_origin</th>\n",
       "      <th></th>\n",
       "      <th></th>\n",
       "      <th></th>\n",
       "      <th></th>\n",
       "      <th></th>\n",
       "      <th></th>\n",
       "      <th></th>\n",
       "      <th></th>\n",
       "      <th></th>\n",
       "      <th></th>\n",
       "      <th></th>\n",
       "      <th></th>\n",
       "      <th></th>\n",
       "      <th></th>\n",
       "      <th></th>\n",
       "      <th></th>\n",
       "      <th></th>\n",
       "      <th></th>\n",
       "      <th></th>\n",
       "      <th></th>\n",
       "      <th></th>\n",
       "    </tr>\n",
       "  </thead>\n",
       "  <tbody>\n",
       "    <tr>\n",
       "      <th>Abbey Road</th>\n",
       "      <td>NaN</td>\n",
       "      <td>NaN</td>\n",
       "      <td>NaN</td>\n",
       "      <td>NaN</td>\n",
       "      <td>NaN</td>\n",
       "      <td>NaN</td>\n",
       "      <td>NaN</td>\n",
       "      <td>NaN</td>\n",
       "      <td>NaN</td>\n",
       "      <td>NaN</td>\n",
       "      <td>...</td>\n",
       "      <td>NaN</td>\n",
       "      <td>NaN</td>\n",
       "      <td>NaN</td>\n",
       "      <td>NaN</td>\n",
       "      <td>NaN</td>\n",
       "      <td>NaN</td>\n",
       "      <td>NaN</td>\n",
       "      <td>NaN</td>\n",
       "      <td>32.0</td>\n",
       "      <td>599</td>\n",
       "    </tr>\n",
       "    <tr>\n",
       "      <th>Acton Central</th>\n",
       "      <td>NaN</td>\n",
       "      <td>NaN</td>\n",
       "      <td>NaN</td>\n",
       "      <td>NaN</td>\n",
       "      <td>NaN</td>\n",
       "      <td>NaN</td>\n",
       "      <td>NaN</td>\n",
       "      <td>NaN</td>\n",
       "      <td>NaN</td>\n",
       "      <td>NaN</td>\n",
       "      <td>...</td>\n",
       "      <td>NaN</td>\n",
       "      <td>NaN</td>\n",
       "      <td>NaN</td>\n",
       "      <td>NaN</td>\n",
       "      <td>NaN</td>\n",
       "      <td>NaN</td>\n",
       "      <td>0.0</td>\n",
       "      <td>NaN</td>\n",
       "      <td>NaN</td>\n",
       "      <td>1224</td>\n",
       "    </tr>\n",
       "    <tr>\n",
       "      <th>Acton Town</th>\n",
       "      <td>NaN</td>\n",
       "      <td>NaN</td>\n",
       "      <td>NaN</td>\n",
       "      <td>3.0</td>\n",
       "      <td>17.0</td>\n",
       "      <td>NaN</td>\n",
       "      <td>35.0</td>\n",
       "      <td>0.0</td>\n",
       "      <td>NaN</td>\n",
       "      <td>11.0</td>\n",
       "      <td>...</td>\n",
       "      <td>77.0</td>\n",
       "      <td>3.0</td>\n",
       "      <td>6.0</td>\n",
       "      <td>9.0</td>\n",
       "      <td>NaN</td>\n",
       "      <td>0.0</td>\n",
       "      <td>NaN</td>\n",
       "      <td>0.0</td>\n",
       "      <td>NaN</td>\n",
       "      <td>3745</td>\n",
       "    </tr>\n",
       "    <tr>\n",
       "      <th>Aldgate</th>\n",
       "      <td>NaN</td>\n",
       "      <td>NaN</td>\n",
       "      <td>0.0</td>\n",
       "      <td>NaN</td>\n",
       "      <td>0.0</td>\n",
       "      <td>NaN</td>\n",
       "      <td>NaN</td>\n",
       "      <td>0.0</td>\n",
       "      <td>NaN</td>\n",
       "      <td>17.0</td>\n",
       "      <td>...</td>\n",
       "      <td>0.0</td>\n",
       "      <td>NaN</td>\n",
       "      <td>4.0</td>\n",
       "      <td>8.0</td>\n",
       "      <td>NaN</td>\n",
       "      <td>0.0</td>\n",
       "      <td>NaN</td>\n",
       "      <td>0.0</td>\n",
       "      <td>NaN</td>\n",
       "      <td>2886</td>\n",
       "    </tr>\n",
       "    <tr>\n",
       "      <th>Aldgate East</th>\n",
       "      <td>NaN</td>\n",
       "      <td>NaN</td>\n",
       "      <td>2.0</td>\n",
       "      <td>0.0</td>\n",
       "      <td>NaN</td>\n",
       "      <td>NaN</td>\n",
       "      <td>0.0</td>\n",
       "      <td>0.0</td>\n",
       "      <td>NaN</td>\n",
       "      <td>20.0</td>\n",
       "      <td>...</td>\n",
       "      <td>24.0</td>\n",
       "      <td>0.0</td>\n",
       "      <td>0.0</td>\n",
       "      <td>12.0</td>\n",
       "      <td>NaN</td>\n",
       "      <td>1.0</td>\n",
       "      <td>NaN</td>\n",
       "      <td>1.0</td>\n",
       "      <td>NaN</td>\n",
       "      <td>3172</td>\n",
       "    </tr>\n",
       "    <tr>\n",
       "      <th>...</th>\n",
       "      <td>...</td>\n",
       "      <td>...</td>\n",
       "      <td>...</td>\n",
       "      <td>...</td>\n",
       "      <td>...</td>\n",
       "      <td>...</td>\n",
       "      <td>...</td>\n",
       "      <td>...</td>\n",
       "      <td>...</td>\n",
       "      <td>...</td>\n",
       "      <td>...</td>\n",
       "      <td>...</td>\n",
       "      <td>...</td>\n",
       "      <td>...</td>\n",
       "      <td>...</td>\n",
       "      <td>...</td>\n",
       "      <td>...</td>\n",
       "      <td>...</td>\n",
       "      <td>...</td>\n",
       "      <td>...</td>\n",
       "      <td>...</td>\n",
       "    </tr>\n",
       "    <tr>\n",
       "      <th>Woodford</th>\n",
       "      <td>NaN</td>\n",
       "      <td>NaN</td>\n",
       "      <td>2.0</td>\n",
       "      <td>5.0</td>\n",
       "      <td>47.0</td>\n",
       "      <td>NaN</td>\n",
       "      <td>NaN</td>\n",
       "      <td>NaN</td>\n",
       "      <td>NaN</td>\n",
       "      <td>22.0</td>\n",
       "      <td>...</td>\n",
       "      <td>2.0</td>\n",
       "      <td>NaN</td>\n",
       "      <td>1.0</td>\n",
       "      <td>NaN</td>\n",
       "      <td>NaN</td>\n",
       "      <td>NaN</td>\n",
       "      <td>NaN</td>\n",
       "      <td>NaN</td>\n",
       "      <td>NaN</td>\n",
       "      <td>4868</td>\n",
       "    </tr>\n",
       "    <tr>\n",
       "      <th>Woodgrange Park</th>\n",
       "      <td>NaN</td>\n",
       "      <td>0.0</td>\n",
       "      <td>NaN</td>\n",
       "      <td>NaN</td>\n",
       "      <td>NaN</td>\n",
       "      <td>NaN</td>\n",
       "      <td>NaN</td>\n",
       "      <td>NaN</td>\n",
       "      <td>NaN</td>\n",
       "      <td>NaN</td>\n",
       "      <td>...</td>\n",
       "      <td>NaN</td>\n",
       "      <td>NaN</td>\n",
       "      <td>NaN</td>\n",
       "      <td>NaN</td>\n",
       "      <td>NaN</td>\n",
       "      <td>NaN</td>\n",
       "      <td>NaN</td>\n",
       "      <td>NaN</td>\n",
       "      <td>NaN</td>\n",
       "      <td>530</td>\n",
       "    </tr>\n",
       "    <tr>\n",
       "      <th>Woodside Park</th>\n",
       "      <td>NaN</td>\n",
       "      <td>NaN</td>\n",
       "      <td>1.0</td>\n",
       "      <td>26.0</td>\n",
       "      <td>11.0</td>\n",
       "      <td>NaN</td>\n",
       "      <td>0.0</td>\n",
       "      <td>NaN</td>\n",
       "      <td>NaN</td>\n",
       "      <td>59.0</td>\n",
       "      <td>...</td>\n",
       "      <td>0.0</td>\n",
       "      <td>NaN</td>\n",
       "      <td>0.0</td>\n",
       "      <td>NaN</td>\n",
       "      <td>NaN</td>\n",
       "      <td>NaN</td>\n",
       "      <td>NaN</td>\n",
       "      <td>NaN</td>\n",
       "      <td>NaN</td>\n",
       "      <td>3093</td>\n",
       "    </tr>\n",
       "    <tr>\n",
       "      <th>Woolwich Arsenal</th>\n",
       "      <td>20.0</td>\n",
       "      <td>NaN</td>\n",
       "      <td>NaN</td>\n",
       "      <td>NaN</td>\n",
       "      <td>NaN</td>\n",
       "      <td>7.0</td>\n",
       "      <td>NaN</td>\n",
       "      <td>NaN</td>\n",
       "      <td>NaN</td>\n",
       "      <td>NaN</td>\n",
       "      <td>...</td>\n",
       "      <td>NaN</td>\n",
       "      <td>NaN</td>\n",
       "      <td>NaN</td>\n",
       "      <td>NaN</td>\n",
       "      <td>NaN</td>\n",
       "      <td>NaN</td>\n",
       "      <td>NaN</td>\n",
       "      <td>NaN</td>\n",
       "      <td>NaN</td>\n",
       "      <td>7892</td>\n",
       "    </tr>\n",
       "    <tr>\n",
       "      <th>All</th>\n",
       "      <td>345.0</td>\n",
       "      <td>750.0</td>\n",
       "      <td>2202.0</td>\n",
       "      <td>7782.0</td>\n",
       "      <td>7932.0</td>\n",
       "      <td>444.0</td>\n",
       "      <td>741.0</td>\n",
       "      <td>256.0</td>\n",
       "      <td>173.0</td>\n",
       "      <td>8103.0</td>\n",
       "      <td>...</td>\n",
       "      <td>6295.0</td>\n",
       "      <td>596.0</td>\n",
       "      <td>2146.0</td>\n",
       "      <td>1578.0</td>\n",
       "      <td>404.0</td>\n",
       "      <td>706.0</td>\n",
       "      <td>242.0</td>\n",
       "      <td>745.0</td>\n",
       "      <td>4428.0</td>\n",
       "      <td>1542391</td>\n",
       "    </tr>\n",
       "  </tbody>\n",
       "</table>\n",
       "<p>400 rows × 400 columns</p>\n",
       "</div>"
      ],
      "text/plain": [
       "station_destination  Abbey Road  Acton Central  Acton Town  Aldgate  \\\n",
       "station_origin                                                        \n",
       "Abbey Road                  NaN            NaN         NaN      NaN   \n",
       "Acton Central               NaN            NaN         NaN      NaN   \n",
       "Acton Town                  NaN            NaN         NaN      3.0   \n",
       "Aldgate                     NaN            NaN         0.0      NaN   \n",
       "Aldgate East                NaN            NaN         2.0      0.0   \n",
       "...                         ...            ...         ...      ...   \n",
       "Woodford                    NaN            NaN         2.0      5.0   \n",
       "Woodgrange Park             NaN            0.0         NaN      NaN   \n",
       "Woodside Park               NaN            NaN         1.0     26.0   \n",
       "Woolwich Arsenal           20.0            NaN         NaN      NaN   \n",
       "All                       345.0          750.0      2202.0   7782.0   \n",
       "\n",
       "station_destination  Aldgate East  All Saints  Alperton  Amersham  Anerley  \\\n",
       "station_origin                                                               \n",
       "Abbey Road                    NaN         NaN       NaN       NaN      NaN   \n",
       "Acton Central                 NaN         NaN       NaN       NaN      NaN   \n",
       "Acton Town                   17.0         NaN      35.0       0.0      NaN   \n",
       "Aldgate                       0.0         NaN       NaN       0.0      NaN   \n",
       "Aldgate East                  NaN         NaN       0.0       0.0      NaN   \n",
       "...                           ...         ...       ...       ...      ...   \n",
       "Woodford                     47.0         NaN       NaN       NaN      NaN   \n",
       "Woodgrange Park               NaN         NaN       NaN       NaN      NaN   \n",
       "Woodside Park                11.0         NaN       0.0       NaN      NaN   \n",
       "Woolwich Arsenal              NaN         7.0       NaN       NaN      NaN   \n",
       "All                        7932.0       444.0     741.0     256.0    173.0   \n",
       "\n",
       "station_destination   Angel  ...  Wimbledon  Wimbledon Park  Wood Green  \\\n",
       "station_origin               ...                                          \n",
       "Abbey Road              NaN  ...        NaN             NaN         NaN   \n",
       "Acton Central           NaN  ...        NaN             NaN         NaN   \n",
       "Acton Town             11.0  ...       77.0             3.0         6.0   \n",
       "Aldgate                17.0  ...        0.0             NaN         4.0   \n",
       "Aldgate East           20.0  ...       24.0             0.0         0.0   \n",
       "...                     ...  ...        ...             ...         ...   \n",
       "Woodford               22.0  ...        2.0             NaN         1.0   \n",
       "Woodgrange Park         NaN  ...        NaN             NaN         NaN   \n",
       "Woodside Park          59.0  ...        0.0             NaN         0.0   \n",
       "Woolwich Arsenal        NaN  ...        NaN             NaN         NaN   \n",
       "All                  8103.0  ...     6295.0           596.0      2146.0   \n",
       "\n",
       "station_destination  Wood Lane  Wood Street  Woodford  Woodgrange Park  \\\n",
       "station_origin                                                           \n",
       "Abbey Road                 NaN          NaN       NaN              NaN   \n",
       "Acton Central              NaN          NaN       NaN              0.0   \n",
       "Acton Town                 9.0          NaN       0.0              NaN   \n",
       "Aldgate                    8.0          NaN       0.0              NaN   \n",
       "Aldgate East              12.0          NaN       1.0              NaN   \n",
       "...                        ...          ...       ...              ...   \n",
       "Woodford                   NaN          NaN       NaN              NaN   \n",
       "Woodgrange Park            NaN          NaN       NaN              NaN   \n",
       "Woodside Park              NaN          NaN       NaN              NaN   \n",
       "Woolwich Arsenal           NaN          NaN       NaN              NaN   \n",
       "All                     1578.0        404.0     706.0            242.0   \n",
       "\n",
       "station_destination  Woodside Park  Woolwich Arsenal      All  \n",
       "station_origin                                                 \n",
       "Abbey Road                     NaN              32.0      599  \n",
       "Acton Central                  NaN               NaN     1224  \n",
       "Acton Town                     0.0               NaN     3745  \n",
       "Aldgate                        0.0               NaN     2886  \n",
       "Aldgate East                   1.0               NaN     3172  \n",
       "...                            ...               ...      ...  \n",
       "Woodford                       NaN               NaN     4868  \n",
       "Woodgrange Park                NaN               NaN      530  \n",
       "Woodside Park                  NaN               NaN     3093  \n",
       "Woolwich Arsenal               NaN               NaN     7892  \n",
       "All                          745.0            4428.0  1542391  \n",
       "\n",
       "[400 rows x 400 columns]"
      ]
     },
     "execution_count": 55,
     "metadata": {},
     "output_type": "execute_result"
    }
   ],
   "source": [
    "#now we can convert the pivot table into a matrix\n",
    "truth_matrix = data0.pivot_table(values =\"flows\", index=\"station_origin\", columns = \"station_destination\",\n",
    "                            aggfunc=np.sum, margins=True)\n",
    "truth_matrix = truth_matrix.round(0)\n",
    "truth_matrix"
   ]
  },
  {
   "cell_type": "code",
   "execution_count": 58,
   "metadata": {},
   "outputs": [
    {
     "data": {
      "text/plain": [
       "<matplotlib.legend.Legend at 0x12ca8dca0>"
      ]
     },
     "execution_count": 58,
     "metadata": {},
     "output_type": "execute_result"
    },
    {
     "data": {
      "image/png": "[encoded data removed]",
      "text/plain": [
       "<Figure size 1200x600 with 1 Axes>"
      ]
     },
     "metadata": {},
     "output_type": "display_data"
    }
   ],
   "source": [
    "# 绘制原始流量的频率分布图\n",
    "plt.figure(figsize=(12, 6))\n",
    "plt.hist(data0['flows'], bins=30, alpha=0.5, label='Original Flows', color='blue', range=(0, 50))\n",
    "\n",
    "# 绘制调整后的流量的频率分布图\n",
    "plt.hist(data0['new_flow'], bins=30, alpha=0.5, label='Adjusted Flows', color='red', range=(0, 50))\n",
    "\n",
    "# 添加图例和标签\n",
    "plt.xlabel('Flow')\n",
    "plt.ylabel('Frequency')\n",
    "plt.title('Frequency Distribution of Flows')\n",
    "plt.legend()"
   ]
  },
  {
   "cell_type": "code",
   "execution_count": 59,
   "metadata": {},
   "outputs": [
    {
     "data": {
      "text/plain": [
       "<matplotlib.legend.Legend at 0x12ca74380>"
      ]
     },
     "execution_count": 59,
     "metadata": {},
     "output_type": "execute_result"
    },
    {
     "data": {
      "image/png": "[encoded data removed]",
      "text/plain": [
       "<Figure size 1200x600 with 1 Axes>"
      ]
     },
     "metadata": {},
     "output_type": "display_data"
    }
   ],
   "source": [
    "# 绘制原始流量的频率分布图\n",
    "plt.figure(figsize=(12, 6))\n",
    "plt.hist(data0['flows'], bins=30, alpha=0.5, label='Original Flows', color='blue', range=(0, 100))\n",
    "\n",
    "\n",
    "# 添加图例和标签\n",
    "plt.xlabel('Flow')\n",
    "plt.ylabel('Frequency')\n",
    "plt.title('Frequency Distribution of Flows')\n",
    "plt.legend()"
   ]
  },
  {
   "cell_type": "code",
   "execution_count": 60,
   "metadata": {},
   "outputs": [],
   "source": [
    "beta_2 = beta * 2\n",
    "beta_3 = beta * 3"
   ]
  },
  {
   "cell_type": "code",
   "execution_count": 61,
   "metadata": {},
   "outputs": [
    {
     "name": "stderr",
     "output_type": "stream",
     "text": [
      "<>:6: SyntaxWarning: invalid escape sequence '\\['\n",
      "<>:6: SyntaxWarning: invalid escape sequence '\\]'\n",
      "<>:6: SyntaxWarning: invalid escape sequence '\\['\n",
      "<>:6: SyntaxWarning: invalid escape sequence '\\]'\n",
      "/var/folders/rv/j_vzprd56j5fpq5_0hvsy8v80000gn/T/ipykernel_15103/3202557484.py:6: SyntaxWarning: invalid escape sequence '\\['\n",
      "  to_repl = [\"(station_origin)\", \"\\[\", \"\\]\"]\n",
      "/var/folders/rv/j_vzprd56j5fpq5_0hvsy8v80000gn/T/ipykernel_15103/3202557484.py:6: SyntaxWarning: invalid escape sequence '\\]'\n",
      "  to_repl = [\"(station_origin)\", \"\\[\", \"\\]\"]\n"
     ]
    },
    {
     "data": {
      "text/html": [
       "<div>\n",
       "<style scoped>\n",
       "    .dataframe tbody tr th:only-of-type {\n",
       "        vertical-align: middle;\n",
       "    }\n",
       "\n",
       "    .dataframe tbody tr th {\n",
       "        vertical-align: top;\n",
       "    }\n",
       "\n",
       "    .dataframe thead th {\n",
       "        text-align: right;\n",
       "    }\n",
       "</style>\n",
       "<table border=\"1\" class=\"dataframe\">\n",
       "  <thead>\n",
       "    <tr style=\"text-align: right;\">\n",
       "      <th></th>\n",
       "      <th>station_origin</th>\n",
       "      <th>station_destination</th>\n",
       "      <th>flows</th>\n",
       "      <th>population</th>\n",
       "      <th>jobs</th>\n",
       "      <th>distance</th>\n",
       "      <th>log_distance</th>\n",
       "      <th>log_jobs</th>\n",
       "      <th>log_flows</th>\n",
       "      <th>inv_distance</th>\n",
       "      <th>alpha_i</th>\n",
       "    </tr>\n",
       "  </thead>\n",
       "  <tbody>\n",
       "    <tr>\n",
       "      <th>0</th>\n",
       "      <td>Abbey Road</td>\n",
       "      <td>Bank and Monument</td>\n",
       "      <td>0</td>\n",
       "      <td>599</td>\n",
       "      <td>78549</td>\n",
       "      <td>8131.525097</td>\n",
       "      <td>9.003627</td>\n",
       "      <td>11.271491</td>\n",
       "      <td>0.000000</td>\n",
       "      <td>0.000123</td>\n",
       "      <td>2.75463</td>\n",
       "    </tr>\n",
       "    <tr>\n",
       "      <th>1</th>\n",
       "      <td>Abbey Road</td>\n",
       "      <td>Beckton</td>\n",
       "      <td>1</td>\n",
       "      <td>599</td>\n",
       "      <td>442</td>\n",
       "      <td>8510.121774</td>\n",
       "      <td>9.049129</td>\n",
       "      <td>6.093570</td>\n",
       "      <td>0.693147</td>\n",
       "      <td>0.000118</td>\n",
       "      <td>2.75463</td>\n",
       "    </tr>\n",
       "    <tr>\n",
       "      <th>2</th>\n",
       "      <td>Abbey Road</td>\n",
       "      <td>Blackwall</td>\n",
       "      <td>3</td>\n",
       "      <td>599</td>\n",
       "      <td>665</td>\n",
       "      <td>3775.448872</td>\n",
       "      <td>8.236539</td>\n",
       "      <td>6.501290</td>\n",
       "      <td>1.386294</td>\n",
       "      <td>0.000265</td>\n",
       "      <td>2.75463</td>\n",
       "    </tr>\n",
       "    <tr>\n",
       "      <th>3</th>\n",
       "      <td>Abbey Road</td>\n",
       "      <td>Canary Wharf</td>\n",
       "      <td>1</td>\n",
       "      <td>599</td>\n",
       "      <td>29386</td>\n",
       "      <td>5086.514220</td>\n",
       "      <td>8.534545</td>\n",
       "      <td>10.981438</td>\n",
       "      <td>0.693147</td>\n",
       "      <td>0.000197</td>\n",
       "      <td>2.75463</td>\n",
       "    </tr>\n",
       "    <tr>\n",
       "      <th>4</th>\n",
       "      <td>Abbey Road</td>\n",
       "      <td>Canning Town</td>\n",
       "      <td>37</td>\n",
       "      <td>599</td>\n",
       "      <td>15428</td>\n",
       "      <td>2228.923167</td>\n",
       "      <td>7.709722</td>\n",
       "      <td>9.644004</td>\n",
       "      <td>3.637586</td>\n",
       "      <td>0.000449</td>\n",
       "      <td>2.75463</td>\n",
       "    </tr>\n",
       "  </tbody>\n",
       "</table>\n",
       "</div>"
      ],
      "text/plain": [
       "  station_origin station_destination  flows  population   jobs     distance  \\\n",
       "0     Abbey Road   Bank and Monument      0         599  78549  8131.525097   \n",
       "1     Abbey Road             Beckton      1         599    442  8510.121774   \n",
       "2     Abbey Road           Blackwall      3         599    665  3775.448872   \n",
       "3     Abbey Road        Canary Wharf      1         599  29386  5086.514220   \n",
       "4     Abbey Road        Canning Town     37         599  15428  2228.923167   \n",
       "\n",
       "   log_distance   log_jobs  log_flows  inv_distance  alpha_i  \n",
       "0      9.003627  11.271491   0.000000      0.000123  2.75463  \n",
       "1      9.049129   6.093570   0.693147      0.000118  2.75463  \n",
       "2      8.236539   6.501290   1.386294      0.000265  2.75463  \n",
       "3      8.534545  10.981438   0.693147      0.000197  2.75463  \n",
       "4      7.709722   9.644004   3.637586      0.000449  2.75463  "
      ]
     },
     "execution_count": 61,
     "metadata": {},
     "output_type": "execute_result"
    }
   ],
   "source": [
    "datab = data\n",
    "coefs = pd.DataFrame()\n",
    "coefs = pd.DataFrame(initial_constrained_model_poisson.params)\n",
    "coefs.reset_index(inplace=True)\n",
    "coefs.rename(columns = {0:\"alpha_i\", \"index\":\"coef\"}, inplace = True)\n",
    "to_repl = [\"(station_origin)\", \"\\[\", \"\\]\"]\n",
    "for x in to_repl:\n",
    "    coefs[\"coef\"] = coefs[\"coef\"].str.replace(x, \"\",regex=True)\n",
    "datab = datab.merge(coefs, left_on=\"station_origin\", right_on=\"coef\", how = \"left\")\n",
    "datab.drop(columns = [\"coef\"], inplace = True)\n",
    "#check this has worked\n",
    "datab.head()"
   ]
  },
  {
   "cell_type": "code",
   "execution_count": 62,
   "metadata": {},
   "outputs": [],
   "source": [
    "datab[\"new_flow_b2\"] = np.exp(datab[\"alpha_i\"]+gamma*(datab[\"jobs\"]) - beta_2*datab[\"distance\"])\n",
    "datab[\"new_flow_b3\"] = np.exp(datab[\"alpha_i\"]+gamma*(datab[\"jobs\"]) - beta_3*datab[\"distance\"])"
   ]
  },
  {
   "cell_type": "code",
   "execution_count": 64,
   "metadata": {},
   "outputs": [
    {
     "data": {
      "text/plain": [
       "<matplotlib.legend.Legend at 0x12ca86ea0>"
      ]
     },
     "execution_count": 64,
     "metadata": {},
     "output_type": "execute_result"
    },
    {
     "data": {
      "image/png": "[encoded data removed]",
      "text/plain": [
       "<Figure size 1200x600 with 1 Axes>"
      ]
     },
     "metadata": {},
     "output_type": "display_data"
    }
   ],
   "source": [
    "plt.figure(figsize=(12, 6))\n",
    "plt.hist(data0['flows'], bins=30, alpha=0.5, label='original', color='green', range=(0, 15))\n",
    "\n",
    "plt.hist(datab['new_flow_b2'], bins=30, alpha=0.5, label='2*beta', color='blue', range=(0, 15))\n",
    "\n",
    "plt.hist(datab['new_flow_b3'], bins=30, alpha=0.5, label='3*beta', color='red', range=(0, 15))\n",
    "\n",
    "plt.xlabel('Flow')\n",
    "plt.ylabel('Frequency')\n",
    "plt.title('Frequency Distribution of Flows')\n",
    "plt.legend()"
   ]
  },
  {
   "cell_type": "code",
   "execution_count": 66,
   "metadata": {},
   "outputs": [
    {
     "name": "stderr",
     "output_type": "stream",
     "text": [
      "<>:6: SyntaxWarning: invalid escape sequence '\\['\n",
      "<>:6: SyntaxWarning: invalid escape sequence '\\]'\n",
      "<>:6: SyntaxWarning: invalid escape sequence '\\['\n",
      "<>:6: SyntaxWarning: invalid escape sequence '\\]'\n",
      "/var/folders/rv/j_vzprd56j5fpq5_0hvsy8v80000gn/T/ipykernel_15103/1091796555.py:6: SyntaxWarning: invalid escape sequence '\\['\n",
      "  to_repl = [\"(station_origin)\", \"\\[\", \"\\]\"]\n",
      "/var/folders/rv/j_vzprd56j5fpq5_0hvsy8v80000gn/T/ipykernel_15103/1091796555.py:6: SyntaxWarning: invalid escape sequence '\\]'\n",
      "  to_repl = [\"(station_origin)\", \"\\[\", \"\\]\"]\n"
     ]
    },
    {
     "data": {
      "text/html": [
       "<div>\n",
       "<style scoped>\n",
       "    .dataframe tbody tr th:only-of-type {\n",
       "        vertical-align: middle;\n",
       "    }\n",
       "\n",
       "    .dataframe tbody tr th {\n",
       "        vertical-align: top;\n",
       "    }\n",
       "\n",
       "    .dataframe thead th {\n",
       "        text-align: right;\n",
       "    }\n",
       "</style>\n",
       "<table border=\"1\" class=\"dataframe\">\n",
       "  <thead>\n",
       "    <tr style=\"text-align: right;\">\n",
       "      <th></th>\n",
       "      <th>station_origin</th>\n",
       "      <th>station_destination</th>\n",
       "      <th>flows</th>\n",
       "      <th>population</th>\n",
       "      <th>jobs</th>\n",
       "      <th>distance</th>\n",
       "      <th>log_distance</th>\n",
       "      <th>log_jobs</th>\n",
       "      <th>log_flows</th>\n",
       "      <th>inv_distance</th>\n",
       "      <th>alpha_i</th>\n",
       "    </tr>\n",
       "  </thead>\n",
       "  <tbody>\n",
       "    <tr>\n",
       "      <th>0</th>\n",
       "      <td>Abbey Road</td>\n",
       "      <td>Bank and Monument</td>\n",
       "      <td>0</td>\n",
       "      <td>599</td>\n",
       "      <td>78549</td>\n",
       "      <td>8131.525097</td>\n",
       "      <td>9.003627</td>\n",
       "      <td>11.271491</td>\n",
       "      <td>0.000000</td>\n",
       "      <td>0.000123</td>\n",
       "      <td>2.75463</td>\n",
       "    </tr>\n",
       "    <tr>\n",
       "      <th>1</th>\n",
       "      <td>Abbey Road</td>\n",
       "      <td>Beckton</td>\n",
       "      <td>1</td>\n",
       "      <td>599</td>\n",
       "      <td>442</td>\n",
       "      <td>8510.121774</td>\n",
       "      <td>9.049129</td>\n",
       "      <td>6.093570</td>\n",
       "      <td>0.693147</td>\n",
       "      <td>0.000118</td>\n",
       "      <td>2.75463</td>\n",
       "    </tr>\n",
       "    <tr>\n",
       "      <th>2</th>\n",
       "      <td>Abbey Road</td>\n",
       "      <td>Blackwall</td>\n",
       "      <td>3</td>\n",
       "      <td>599</td>\n",
       "      <td>665</td>\n",
       "      <td>3775.448872</td>\n",
       "      <td>8.236539</td>\n",
       "      <td>6.501290</td>\n",
       "      <td>1.386294</td>\n",
       "      <td>0.000265</td>\n",
       "      <td>2.75463</td>\n",
       "    </tr>\n",
       "    <tr>\n",
       "      <th>3</th>\n",
       "      <td>Abbey Road</td>\n",
       "      <td>Canary Wharf</td>\n",
       "      <td>1</td>\n",
       "      <td>599</td>\n",
       "      <td>29386</td>\n",
       "      <td>5086.514220</td>\n",
       "      <td>8.534545</td>\n",
       "      <td>10.981438</td>\n",
       "      <td>0.693147</td>\n",
       "      <td>0.000197</td>\n",
       "      <td>2.75463</td>\n",
       "    </tr>\n",
       "    <tr>\n",
       "      <th>4</th>\n",
       "      <td>Abbey Road</td>\n",
       "      <td>Canning Town</td>\n",
       "      <td>37</td>\n",
       "      <td>599</td>\n",
       "      <td>15428</td>\n",
       "      <td>2228.923167</td>\n",
       "      <td>7.709722</td>\n",
       "      <td>9.644004</td>\n",
       "      <td>3.637586</td>\n",
       "      <td>0.000449</td>\n",
       "      <td>2.75463</td>\n",
       "    </tr>\n",
       "  </tbody>\n",
       "</table>\n",
       "</div>"
      ],
      "text/plain": [
       "  station_origin station_destination  flows  population   jobs     distance  \\\n",
       "0     Abbey Road   Bank and Monument      0         599  78549  8131.525097   \n",
       "1     Abbey Road             Beckton      1         599    442  8510.121774   \n",
       "2     Abbey Road           Blackwall      3         599    665  3775.448872   \n",
       "3     Abbey Road        Canary Wharf      1         599  29386  5086.514220   \n",
       "4     Abbey Road        Canning Town     37         599  15428  2228.923167   \n",
       "\n",
       "   log_distance   log_jobs  log_flows  inv_distance  alpha_i  \n",
       "0      9.003627  11.271491   0.000000      0.000123  2.75463  \n",
       "1      9.049129   6.093570   0.693147      0.000118  2.75463  \n",
       "2      8.236539   6.501290   1.386294      0.000265  2.75463  \n",
       "3      8.534545  10.981438   0.693147      0.000197  2.75463  \n",
       "4      7.709722   9.644004   3.637586      0.000449  2.75463  "
      ]
     },
     "execution_count": 66,
     "metadata": {},
     "output_type": "execute_result"
    }
   ],
   "source": [
    "dataa = data\n",
    "coefs = pd.DataFrame()\n",
    "coefs = pd.DataFrame(initial_constrained_model_poisson.params)\n",
    "coefs.reset_index(inplace=True)\n",
    "coefs.rename(columns = {0:\"alpha_i\", \"index\":\"coef\"}, inplace = True)\n",
    "to_repl = [\"(station_origin)\", \"\\[\", \"\\]\"]\n",
    "for x in to_repl:\n",
    "    coefs[\"coef\"] = coefs[\"coef\"].str.replace(x, \"\",regex=True)\n",
    "dataa = dataa.merge(coefs, left_on=\"station_origin\", right_on=\"coef\", how = \"left\")\n",
    "dataa.drop(columns = [\"coef\"], inplace = True)\n",
    "#check this has worked\n",
    "dataa.head()"
   ]
  },
  {
   "cell_type": "code",
   "execution_count": 67,
   "metadata": {},
   "outputs": [],
   "source": [
    "dataa['alpha_i1'] = dataa['alpha_i'] - 0.1\n",
    "dataa['alpha_i2'] = dataa['alpha_i'] - 0.2"
   ]
  },
  {
   "cell_type": "code",
   "execution_count": 70,
   "metadata": {},
   "outputs": [],
   "source": [
    "dataa[\"new_flow_a1\"] = np.exp(dataa[\"alpha_i1\"]+gamma*(dataa[\"jobs\"]) - beta*dataa[\"distance\"])\n",
    "dataa[\"new_flow_a2\"] = np.exp(dataa[\"alpha_i2\"]+gamma*(dataa[\"jobs\"]) - beta*dataa[\"distance\"])"
   ]
  },
  {
   "cell_type": "code",
   "execution_count": 71,
   "metadata": {},
   "outputs": [
    {
     "data": {
      "text/plain": [
       "<matplotlib.legend.Legend at 0x12eab7fe0>"
      ]
     },
     "execution_count": 71,
     "metadata": {},
     "output_type": "execute_result"
    },
    {
     "data": {
      "image/png": "[encoded data removed]",
      "text/plain": [
       "<Figure size 1200x600 with 1 Axes>"
      ]
     },
     "metadata": {},
     "output_type": "display_data"
    }
   ],
   "source": [
    "plt.figure(figsize=(12, 6))\n",
    "plt.hist(data0['flows'], bins=30, alpha=0.5, label='original', color='green', range=(0, 15))\n",
    "\n",
    "plt.hist(dataa['new_flow_a1'], bins=30, alpha=0.5, label='alpha-0.1', color='blue', range=(0, 15))\n",
    "\n",
    "plt.hist(dataa['new_flow_a2'], bins=30, alpha=0.5, label='alpha-0.2', color='red', range=(0, 15))\n",
    "\n",
    "plt.xlabel('Flow')\n",
    "plt.ylabel('Frequency')\n",
    "plt.title('Frequency Distribution of Flows')\n",
    "plt.legend()"
   ]
  },
  {
   "cell_type": "code",
   "execution_count": null,
   "metadata": {},
   "outputs": [],
   "source": []
  }
 ],
 "metadata": {
  "colab": {
   "provenance": []
  },
  "kernelspec": {
   "display_name": "Python 3",
   "language": "python",
   "name": "python3"
  },
  "language_info": {
   "codemirror_mode": {
    "name": "ipython",
    "version": 3
   },
   "file_extension": ".py",
   "mimetype": "text/x-python",
   "name": "python",
   "nbconvert_exporter": "python",
   "pygments_lexer": "ipython3",
   "version": "3.8.8"
  }
 },
 "nbformat": 4,
 "nbformat_minor": 1
}
